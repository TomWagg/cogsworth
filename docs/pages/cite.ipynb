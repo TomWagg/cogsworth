{
 "cells": [
  {
   "cell_type": "raw",
   "id": "3589c2fc-9407-4207-9547-c7be3625a354",
   "metadata": {
    "raw_mimetype": "text/restructuredtext",
    "tags": []
   },
   "source": [
    "****\n",
    "Cite\n",
    "****\n",
    "\n",
    "If you use ``cogsworth`` in a scientific publication we ask that you please cite it and its dependencies.\n",
    "``cogsworth`` could not function without many of the excellent papers and software packages on which it depends.\n",
    "We've tried to make it as painless as possible for you to be able to cite the specific dependencies for your\n",
    "individual use case.\n",
    "\n",
    "For any :class:`~cogsworth.pop.Population` or :class:`~cogsworth.sfh.StarFormationHistory` you can call\n",
    ":meth:`~cogsworth.pop.Population.get_citations` to get a personalised and specific (a) acknowledgement\n",
    "sentence for your manuscript and (b) the associated BibTeX information."
   ]
  },
  {
   "cell_type": "markdown",
   "id": "602ff9cd",
   "metadata": {},
   "source": [
    "For example, say you create an extremely basic population that uses the default parameters:"
   ]
  },
  {
   "cell_type": "code",
   "execution_count": 10,
   "id": "5ae911d0",
   "metadata": {},
   "outputs": [],
   "source": [
    "import cogsworth\n",
    "p = cogsworth.pop.Population(5, processes=6)\n",
    "p.create_population(with_timing=False)"
   ]
  },
  {
   "cell_type": "code",
   "execution_count": 4,
   "id": "700b6447",
   "metadata": {},
   "outputs": [
    {
     "name": "stdout",
     "output_type": "stream",
     "text": [
      "\n",
      "You can paste this acknowledgement into the relevant section of your manuscript:\n",
      "\u001b[1m\u001b[0;32mThis research made use of \\texttt{cogsworth} and its dependencies \\citep{cogsworth:joss,cosmic:apj,gala:joss}. The \\texttt{cogsworth} population used a galaxy model based on the following papers \\citep{Wagg+2022,Frankel+2018,Bovy+2016,Bovy+2019,McMillan+2011}. \u001b[0m\n",
      "The associated bibtex can be found in cogsworth.bib\n",
      "Good luck with the paper writing ◝(ᵔᵕᵔ)◜\n"
     ]
    }
   ],
   "source": [
    "p.get_citations()"
   ]
  },
  {
   "cell_type": "markdown",
   "id": "3e3ea7f0",
   "metadata": {},
   "source": [
    "As you use further ``cogsworth`` features, each new citation will be tracked. For example if you also calculate observable properties and checked which binaries are observable by Gaia your citations might look like this."
   ]
  },
  {
   "cell_type": "code",
   "execution_count": 5,
   "id": "6b08ab6a",
   "metadata": {},
   "outputs": [],
   "source": [
    "p.get_observables()\n",
    "p.get_gaia_observed_bin_nums()"
   ]
  },
  {
   "cell_type": "code",
   "execution_count": 6,
   "id": "c850ee35",
   "metadata": {},
   "outputs": [
    {
     "name": "stdout",
     "output_type": "stream",
     "text": [
      "\n",
      "You can paste this acknowledgement into the relevant section of your manuscript:\n",
      "\u001b[1m\u001b[0;32mThis research made use of \\texttt{cogsworth} and its dependencies \\citep{cogsworth:joss,cosmic:apj,gala:joss}. The \\texttt{cogsworth} population used a galaxy model based on the following papers \\citep{Wagg+2022,Frankel+2018,Bovy+2016,Bovy+2019,McMillan+2011}. Population observables were estimated using dust maps and MIST isochrones \\citep{MIST0,MIST1,Paxton+2011,Paxton+2013,Paxton+2015,Paxton+2018,bayestar2019}. Observability of systems with Gaia was predicted using an empirical selection function \\citep{gaia-selection-function}. \u001b[0m\n",
      "The associated bibtex can be found in cogsworth.bib\n",
      "Good luck with the paper writing ◝(ᵔᵕᵔ)◜\n"
     ]
    }
   ],
   "source": [
    "p.get_citations()"
   ]
  }
 ],
 "metadata": {
  "kernelspec": {
   "display_name": "Python 3 (ipykernel)",
   "language": "python",
   "name": "python3"
  },
  "language_info": {
   "codemirror_mode": {
    "name": "ipython",
    "version": 3
   },
   "file_extension": ".py",
   "mimetype": "text/x-python",
   "name": "python",
   "nbconvert_exporter": "python",
   "pygments_lexer": "ipython3",
   "version": "3.10.11"
  }
 },
 "nbformat": 4,
 "nbformat_minor": 5
}
