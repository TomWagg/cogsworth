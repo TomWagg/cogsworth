{
 "cells": [
  {
   "cell_type": "raw",
   "id": "f86144c2",
   "metadata": {
    "raw_mimetype": "text/restructuredtext",
    "tags": []
   },
   "source": [
    "************************************\n",
    "Varying stellar evolution parameters\n",
    "************************************\n",
    "\n",
    "``cogsworth`` offers all of the same flexibility as ``COSMIC`` for changing stellar evolution parameters. In this tutorials we'll demonstrate how to change them.\n",
    "\n",
    "Learning Goals\n",
    "==============\n",
    "By the end of this tutorial you should know how to:\n",
    "\n",
    "- Vary stellar evolution parameters using the :attr:`~cogsworth.pop.Population.BSE_dict`"
   ]
  }
 ],
 "metadata": {
  "kernelspec": {
   "display_name": "Python 3 (ipykernel)",
   "language": "python",
   "name": "python3"
  },
  "language_info": {
   "codemirror_mode": {
    "name": "ipython",
    "version": 3
   },
   "file_extension": ".py",
   "mimetype": "text/x-python",
   "name": "python",
   "nbconvert_exporter": "python",
   "pygments_lexer": "ipython3",
   "version": "3.10.11"
  }
 },
 "nbformat": 4,
 "nbformat_minor": 5
}
