{
 "cells": [
  {
   "cell_type": "raw",
   "id": "3589c2fc-9407-4207-9547-c7be3625a354",
   "metadata": {
    "raw_mimetype": "text/restructuredtext",
    "tags": []
   },
   "source": [
    "***********************************\n",
    "Re-running for more detailed output\n",
    "***********************************\n",
    "\n",
    "Once you've selected a specific subpopulation you might need more detailed timestep output either in terms of the stellar or galactic evolution. In this tutorial we'll go through how you can re-run a subpopulation to get more detailed output.\n",
    "\n",
    "Learning Goals\n",
    "==============\n",
    "By the end of this tutorial you should know how to:\n",
    "\n",
    "- Choose ``bcm`` conditions for ``COSMIC`` simulations\n",
    "- Apply ``bcm`` conditions to a (sub) :class:`~cogsworth.pop.Population`\n",
    "- Adjust the orbit integration timestep size\n",
    "\n",
    "If you're not already familiar with selecting out subpopulations you may wish to check out `this tutorial <subpops.ipynb>`_."
   ]
  }
 ],
 "metadata": {
  "kernelspec": {
   "display_name": "Python 3 (ipykernel)",
   "language": "python",
   "name": "python3"
  },
  "language_info": {
   "codemirror_mode": {
    "name": "ipython",
    "version": 3
   },
   "file_extension": ".py",
   "mimetype": "text/x-python",
   "name": "python",
   "nbconvert_exporter": "python",
   "pygments_lexer": "ipython3",
   "version": "3.10.11"
  },
  "toc-showtags": true
 },
 "nbformat": 4,
 "nbformat_minor": 5
}
