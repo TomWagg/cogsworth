{
 "cells": [
  {
   "cell_type": "raw",
   "id": "3589c2fc-9407-4207-9547-c7be3625a354",
   "metadata": {
    "raw_mimetype": "text/restructuredtext",
    "tags": []
   },
   "source": [
    "***************\n",
    "Getting Started\n",
    "***************\n",
    "\n",
    "Welcome! You've found the documentation for ``kicker``, good for you! This is an epic crossover episode of a\n",
    "package in which we bring the worlds of rapid population synthesis and galactic dynamics together and see what\n",
    "happens.\n",
    "\n",
    "You should know that package relies heavily on :mod:`cosmic` and :mod:`gala` and I recommend you check out\n",
    "their respective documentation. Note that if you look at the :mod:`gala` documentation and think \"huh, this\n",
    "seems familiar\", yet that is because I have `shamelessly` stolen this template from Adrian.\n",
    "\n",
    "Okay, let's get into this!\n",
    "\n",
    "Basic imports\n",
    "=============\n",
    "\n",
    "For more of the examples that I give in this documentation you're probably going to need the following basic\n",
    "imports. You can always read more about :mod:`numpy` and :mod:`astropy.units` at those respective links."
   ]
  },
  {
   "cell_type": "code",
   "execution_count": 3,
   "id": "bc8a5a1d-b62d-45ec-bf5a-1d1a7b006229",
   "metadata": {},
   "outputs": [],
   "source": [
    "import numpy as np\n",
    "import astropy.units as u"
   ]
  },
  {
   "cell_type": "raw",
   "id": "cd48a7bd-9c87-4a18-a43e-c37ffb3dad5c",
   "metadata": {
    "raw_mimetype": "text/restructuredtext",
    "tags": []
   },
   "source": [
    "Create your first population\n",
    "============================\n",
    "\n",
    "The central class in this package is :class:`~kicker.pop.Population`"
   ]
  }
 ],
 "metadata": {
  "kernelspec": {
   "display_name": "Python 3 (ipykernel)",
   "language": "python",
   "name": "python3"
  },
  "language_info": {
   "codemirror_mode": {
    "name": "ipython",
    "version": 3
   },
   "file_extension": ".py",
   "mimetype": "text/x-python",
   "name": "python",
   "nbconvert_exporter": "python",
   "pygments_lexer": "ipython3",
   "version": "3.10.6"
  }
 },
 "nbformat": 4,
 "nbformat_minor": 5
}
