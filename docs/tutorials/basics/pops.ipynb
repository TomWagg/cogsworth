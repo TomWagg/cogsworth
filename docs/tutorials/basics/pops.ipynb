{
 "cells": [
  {
   "cell_type": "raw",
   "id": "3589c2fc-9407-4207-9547-c7be3625a354",
   "metadata": {
    "raw_mimetype": "text/restructuredtext",
    "tags": []
   },
   "source": [
    "******************************\n",
    "Creating your first population\n",
    "******************************\n",
    "\n",
    "Welcome to the ``cogsworth`` tutorials! In this tutorial we will create a simple population of binaries.\n",
    "\n",
    "Learning Goals\n",
    "==============\n",
    "By the end of this tutorial you should know:\n",
    "\n",
    "- What the :class:`~cogsworth.pop.Population` class can do\n",
    "- How to initialise a simple :class:`~cogsworth.pop.Population`\n",
    "- How to create a full population with basic settings using :meth:`~cogsworth.pop.Population.create_population`"
   ]
  }
 ],
 "metadata": {
  "kernelspec": {
   "display_name": "Python 3 (ipykernel)",
   "language": "python",
   "name": "python3"
  },
  "language_info": {
   "codemirror_mode": {
    "name": "ipython",
    "version": 3
   },
   "file_extension": ".py",
   "mimetype": "text/x-python",
   "name": "python",
   "nbconvert_exporter": "python",
   "pygments_lexer": "ipython3",
   "version": "3.10.11"
  },
  "toc-showtags": true
 },
 "nbformat": 4,
 "nbformat_minor": 5
}
