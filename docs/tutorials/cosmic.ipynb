{
 "cells": [
  {
   "cell_type": "raw",
   "id": "3589c2fc-9407-4207-9547-c7be3625a354",
   "metadata": {
    "raw_mimetype": "text/restructuredtext",
    "tags": []
   },
   "source": [
    "*********************************\n",
    "Understanding outputs from COSMIC\n",
    "*********************************\n",
    "\n",
    "Almost any ``cogsworth`` simulation will likely run ``COSMIC`` in some form. Understanding the outputs that ``COSMIC`` uses is therefore critical to making full use of ``cogsworth``.\n",
    "\n",
    "Learning Goals\n",
    "==============\n",
    "By the end of this tutorial you should know how to:\n",
    "\n",
    "- Interpret information from the ``bpp``, ``bcm`` and ``kick_info`` tables from the :class:`~cogsworth.pop.Population` class\n",
    "- Understand the differences between the ``bpp`` and ``bcm`` tables"
   ]
  }
 ],
 "metadata": {
  "kernelspec": {
   "display_name": "Python 3 (ipykernel)",
   "language": "python",
   "name": "python3"
  },
  "language_info": {
   "codemirror_mode": {
    "name": "ipython",
    "version": 3
   },
   "file_extension": ".py",
   "mimetype": "text/x-python",
   "name": "python",
   "nbconvert_exporter": "python",
   "pygments_lexer": "ipython3",
   "version": "3.10.11"
  }
 },
 "nbformat": 4,
 "nbformat_minor": 5
}
