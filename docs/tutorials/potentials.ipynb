{
 "cells": [
  {
   "cell_type": "raw",
   "id": "3589c2fc-9407-4207-9547-c7be3625a354",
   "metadata": {
    "raw_mimetype": "text/restructuredtext",
    "tags": []
   },
   "source": [
    "*******************************\n",
    "Changing the galactic potential\n",
    "*******************************\n",
    "\n",
    "TODO"
   ]
  },
  {
   "attachments": {},
   "cell_type": "markdown",
   "id": "83d3d185",
   "metadata": {},
   "source": [
    "## Section 2"
   ]
  },
  {
   "attachments": {},
   "cell_type": "markdown",
   "id": "ed41872b",
   "metadata": {},
   "source": [
    "## Section 3"
   ]
  }
 ],
 "metadata": {
  "kernelspec": {
   "display_name": "Python 3 (ipykernel)",
   "language": "python",
   "name": "python3"
  },
  "language_info": {
   "codemirror_mode": {
    "name": "ipython",
    "version": 3
   },
   "file_extension": ".py",
   "mimetype": "text/x-python",
   "name": "python",
   "nbconvert_exporter": "python",
   "pygments_lexer": "ipython3",
   "version": "3.10.11"
  }
 },
 "nbformat": 4,
 "nbformat_minor": 5
}
