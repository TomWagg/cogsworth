{
 "cells": [
  {
   "cell_type": "raw",
   "id": "3589c2fc-9407-4207-9547-c7be3625a354",
   "metadata": {
    "raw_mimetype": "text/restructuredtext",
    "tags": [],
    "vscode": {
     "languageId": "raw"
    }
   },
   "source": [
    "**********************************************************\n",
    "Using distribution function based star formation histories\n",
    "**********************************************************\n",
    "\n",
    "In this tutorial we'll discuss how to create a distribution function based star formation history (SFH) using the :mod:`cogsworth.sfh` module. These SFHs are based on analytic distribution functions (DFs) for stellar systems in equilibrium, and allow you to create more realistic SFHs that take into account the dynamics of the system.\n",
    "\n",
    "Learning Goals\n",
    "==============\n",
    "By the end of this tutorial you should know how to:\n",
    "\n",
    "- Create a distribution function based SFH using classes that inherit from the :class:`cogsworth.sfh.DistributionFunctionBasedSFH` class\n",
    "- Use pre-defined SFHs for specific systems, such as the Milky Way disc and dwarf spheroidal galaxies\n",
    "- Apply these SFHs to generate stellar populations with realistic spatial and kinematic distributions with a :class:`cogsworth.sfh.Population`\n",
    "\n",
    "\n",
    ".. admonition:: Beware - extra dependencies required here!\n",
    "    :class: warning\n",
    "\n",
    "    You'll need to have installed the extra dependencies of ``cogsworth`` to use distribution function based star formation histories. Check out the `installation page <../../pages/install.rst>`_ for more details on how to do this! (You'll *probably* just need to run ``pip install cogsworth[extras]``)"
   ]
  },
  {
   "cell_type": "code",
   "execution_count": 1,
   "id": "4d94919e-9a33-43fc-8656-b2206ec79b16",
   "metadata": {},
   "outputs": [],
   "source": [
    "import cogsworth\n",
    "import matplotlib.pyplot as plt\n",
    "import numpy as np\n",
    "import pandas as pd\n",
    "import astropy.units as u"
   ]
  },
  {
   "cell_type": "code",
   "execution_count": 2,
   "id": "179e8dfd-991a-417b-9472-cf93d923afff",
   "metadata": {},
   "outputs": [],
   "source": [
    "# this all just makes plots look nice\n",
    "%config InlineBackend.figure_format = 'retina'\n",
    "\n",
    "plt.rc('font', family='serif')\n",
    "plt.rcParams['text.usetex'] = False\n",
    "fs = 24\n",
    "\n",
    "# update various fontsizes to match\n",
    "params = {'figure.figsize': (12, 8),\n",
    "          'legend.fontsize': fs,\n",
    "          'axes.labelsize': fs,\n",
    "          'xtick.labelsize': 0.9 * fs,\n",
    "          'ytick.labelsize': 0.9 * fs,\n",
    "          'axes.linewidth': 1.1,\n",
    "          'xtick.major.size': 7,\n",
    "          'xtick.minor.size': 4,\n",
    "          'ytick.major.size': 7,\n",
    "          'ytick.minor.size': 4}\n",
    "plt.rcParams.update(params)\n",
    "pd.options.display.max_columns = 999"
   ]
  },
  {
   "cell_type": "raw",
   "id": "bff46a26-41dd-40ee-897f-9bcd05851afa",
   "metadata": {
    "raw_mimetype": "text/restructuredtext",
    "tags": [],
    "vscode": {
     "languageId": "raw"
    }
   },
   "source": [
    "Why use distribution function based SFHs?\n",
    "=========================================\n",
    "\n",
    "The simpler star formation histories in cogsworth (e.g., :class:`~cogsworth.sfh.Wagg2022` and :class:`~cogsworth.sfh.ConstantUniformDisc`) are useful for generating populations quickly, especially those that are short lived. For longer lived populations, however, it is often desirable to have a more realistic spatial and kinematic distribution for your stars. This is especially true if you want to model populations in specific systems, such as the Milky Way disc or dwarf spheroidal galaxies. We'll illustrate this in more detail below.\n",
    "\n",
    "The basic limitation with the simpler SFHs is that they do not take into account the dynamics of the system. In :class:`~cogsworth.sfh.Wagg2022`, for example, stars are born with velocities that are a combination of the circular velocity at their birth radius and a random velocity dispersion drawn from a Gaussian. This may not be entirely consistent with the velocity a star should have that a given location."
   ]
  },
  {
   "cell_type": "raw",
   "id": "d7393e58",
   "metadata": {
    "vscode": {
     "languageId": "raw"
    }
   },
   "source": [
    "What is a distribution function?\n",
    "================================\n",
    "\n",
    "Simply put, a distribution function describes the density of stars in phase space. In other words, it tells you how many stars you can expect to find in a given volume of position and velocity space. For a system in equilibrium, the distribution function is time independent, and can be used to generate a population of stars that are consistent with the gravitational potential of the system.\n",
    "\n",
    "Distribution function based SFHs in cogsworth use functions of actions and pass them to ``agama`` for sampling.\n",
    "\n",
    "Using distribution function based SFHs\n",
    "======================================\n",
    "\n",
    "Let's start by creating a simple SFH based on the Carina Dwarf galaxy, which is built into cogsworth as the :class:`~cogsworth.sfh.CarinaDwarf` class."
   ]
  },
  {
   "cell_type": "code",
   "execution_count": 3,
   "id": "fdbea99e-2b99-48e0-9959-893d299a8526",
   "metadata": {},
   "outputs": [
    {
     "ename": "ImportError",
     "evalue": "`agama` required for action-based potentials with cogsworth\nEither install this package directly, or install all optional `cogsworth` dependencies with `pip install cogsworth[all]`\n",
     "output_type": "error",
     "traceback": [
      "\u001b[31m---------------------------------------------------------------------------\u001b[39m",
      "\u001b[31mModuleNotFoundError\u001b[39m                       Traceback (most recent call last)",
      "\u001b[36mFile \u001b[39m\u001b[32m~/codes/cogsworth/cogsworth/tests/optional_deps.py:47\u001b[39m, in \u001b[36mcheck_dependencies\u001b[39m\u001b[34m(names)\u001b[39m\n\u001b[32m     46\u001b[39m     logging.getLogger(\u001b[33m\"\u001b[39m\u001b[33misochrones\u001b[39m\u001b[33m\"\u001b[39m).setLevel(\u001b[33m\"\u001b[39m\u001b[33mERROR\u001b[39m\u001b[33m\"\u001b[39m)\n\u001b[32m---> \u001b[39m\u001b[32m47\u001b[39m \u001b[43mimportlib\u001b[49m\u001b[43m.\u001b[49m\u001b[43mimport_module\u001b[49m\u001b[43m(\u001b[49m\u001b[43mmodule\u001b[49m\u001b[43m)\u001b[49m\n\u001b[32m     48\u001b[39m \u001b[38;5;28;01mif\u001b[39;00m module_name == \u001b[33m\"\u001b[39m\u001b[33misochrones\u001b[39m\u001b[33m\"\u001b[39m:\n",
      "\u001b[36mFile \u001b[39m\u001b[32m~/miniforge3/envs/cogsworth/lib/python3.11/importlib/__init__.py:126\u001b[39m, in \u001b[36mimport_module\u001b[39m\u001b[34m(name, package)\u001b[39m\n\u001b[32m    125\u001b[39m         level += \u001b[32m1\u001b[39m\n\u001b[32m--> \u001b[39m\u001b[32m126\u001b[39m \u001b[38;5;28;01mreturn\u001b[39;00m \u001b[43m_bootstrap\u001b[49m\u001b[43m.\u001b[49m\u001b[43m_gcd_import\u001b[49m\u001b[43m(\u001b[49m\u001b[43mname\u001b[49m\u001b[43m[\u001b[49m\u001b[43mlevel\u001b[49m\u001b[43m:\u001b[49m\u001b[43m]\u001b[49m\u001b[43m,\u001b[49m\u001b[43m \u001b[49m\u001b[43mpackage\u001b[49m\u001b[43m,\u001b[49m\u001b[43m \u001b[49m\u001b[43mlevel\u001b[49m\u001b[43m)\u001b[49m\n",
      "\u001b[36mFile \u001b[39m\u001b[32m<frozen importlib._bootstrap>:1204\u001b[39m, in \u001b[36m_gcd_import\u001b[39m\u001b[34m(name, package, level)\u001b[39m\n",
      "\u001b[36mFile \u001b[39m\u001b[32m<frozen importlib._bootstrap>:1176\u001b[39m, in \u001b[36m_find_and_load\u001b[39m\u001b[34m(name, import_)\u001b[39m\n",
      "\u001b[36mFile \u001b[39m\u001b[32m<frozen importlib._bootstrap>:1140\u001b[39m, in \u001b[36m_find_and_load_unlocked\u001b[39m\u001b[34m(name, import_)\u001b[39m\n",
      "\u001b[31mModuleNotFoundError\u001b[39m: No module named 'agama'",
      "\nDuring handling of the above exception, another exception occurred:\n",
      "\u001b[31mImportError\u001b[39m                               Traceback (most recent call last)",
      "\u001b[36mCell\u001b[39m\u001b[36m \u001b[39m\u001b[32mIn[3]\u001b[39m\u001b[32m, line 1\u001b[39m\n\u001b[32m----> \u001b[39m\u001b[32m1\u001b[39m carina = \u001b[43mcogsworth\u001b[49m\u001b[43m.\u001b[49m\u001b[43msfh\u001b[49m\u001b[43m.\u001b[49m\u001b[43mCarinaDwarf\u001b[49m\u001b[43m(\u001b[49m\u001b[43msize\u001b[49m\u001b[43m=\u001b[49m\u001b[32;43m100000\u001b[39;49m\u001b[43m,\u001b[49m\u001b[43m \u001b[49m\u001b[43mfixed_Z\u001b[49m\u001b[43m=\u001b[49m\u001b[32;43m0.001\u001b[39;49m\u001b[43m,\u001b[49m\u001b[43m \u001b[49m\u001b[43mtau_min\u001b[49m\u001b[43m=\u001b[49m\u001b[32;43m6.9\u001b[39;49m\u001b[43m \u001b[49m\u001b[43m*\u001b[49m\u001b[43m \u001b[49m\u001b[43mu\u001b[49m\u001b[43m.\u001b[49m\u001b[43mGyr\u001b[49m\u001b[43m,\u001b[49m\u001b[43m \u001b[49m\u001b[43mgalaxy_age\u001b[49m\u001b[43m=\u001b[49m\u001b[32;43m7\u001b[39;49m\u001b[43m \u001b[49m\u001b[43m*\u001b[49m\u001b[43m \u001b[49m\u001b[43mu\u001b[49m\u001b[43m.\u001b[49m\u001b[43mGyr\u001b[49m\u001b[43m)\u001b[49m\n",
      "\u001b[36mFile \u001b[39m\u001b[32m~/codes/cogsworth/cogsworth/sfh.py:1235\u001b[39m, in \u001b[36mCarinaDwarf.__init__\u001b[39m\u001b[34m(self, size, **kwargs)\u001b[39m\n\u001b[32m   1234\u001b[39m \u001b[38;5;28;01mdef\u001b[39;00m\u001b[38;5;250m \u001b[39m\u001b[34m__init__\u001b[39m(\u001b[38;5;28mself\u001b[39m, size, **kwargs):\n\u001b[32m-> \u001b[39m\u001b[32m1235\u001b[39m     \u001b[38;5;28;43msuper\u001b[39;49m\u001b[43m(\u001b[49m\u001b[43m)\u001b[49m\u001b[43m.\u001b[49m\u001b[34;43m__init__\u001b[39;49m\u001b[43m(\u001b[49m\u001b[43msize\u001b[49m\u001b[43m=\u001b[49m\u001b[43msize\u001b[49m\u001b[43m,\u001b[49m\u001b[43m \u001b[49m\u001b[43mmass\u001b[49m\u001b[43m=\u001b[49m\u001b[32;43m8.69e8\u001b[39;49m\u001b[43m \u001b[49m\u001b[43m*\u001b[49m\u001b[43m \u001b[49m\u001b[43mu\u001b[49m\u001b[43m.\u001b[49m\u001b[43mMsun\u001b[49m\u001b[43m,\u001b[49m\u001b[43m \u001b[49m\u001b[43mJ_0_star\u001b[49m\u001b[43m=\u001b[49m\u001b[32;43m0.677\u001b[39;49m\u001b[43m \u001b[49m\u001b[43m*\u001b[49m\u001b[43m \u001b[49m\u001b[43mu\u001b[49m\u001b[43m.\u001b[49m\u001b[43mkpc\u001b[49m\u001b[43m*\u001b[49m\u001b[43mu\u001b[49m\u001b[43m.\u001b[49m\u001b[43mkm\u001b[49m\u001b[43m/\u001b[49m\u001b[43mu\u001b[49m\u001b[43m.\u001b[49m\u001b[43ms\u001b[49m\u001b[43m,\u001b[49m\n\u001b[32m   1236\u001b[39m \u001b[43m                     \u001b[49m\u001b[43malpha\u001b[49m\u001b[43m=\u001b[49m\u001b[32;43m0.946\u001b[39;49m\u001b[43m,\u001b[49m\u001b[43m \u001b[49m\u001b[43meta\u001b[49m\u001b[43m=\u001b[49m\u001b[32;43m0.5\u001b[39;49m\u001b[43m,\u001b[49m\u001b[43m \u001b[49m\u001b[43m*\u001b[49m\u001b[43m*\u001b[49m\u001b[43mkwargs\u001b[49m\u001b[43m)\u001b[49m\n",
      "\u001b[36mFile \u001b[39m\u001b[32m~/codes/cogsworth/cogsworth/sfh.py:1175\u001b[39m, in \u001b[36mSpheroidalDwarf.__init__\u001b[39m\u001b[34m(self, size, J_0_star, alpha, eta, fixed_Z, tau_min, galaxy_age, mass, **kwargs)\u001b[39m\n\u001b[32m   1172\u001b[39m     \u001b[38;5;28;01mif\u001b[39;00m var \u001b[38;5;129;01min\u001b[39;00m kwargs:\n\u001b[32m   1173\u001b[39m         kwargs.pop(var)\n\u001b[32m-> \u001b[39m\u001b[32m1175\u001b[39m \u001b[38;5;28;43msuper\u001b[39;49m\u001b[43m(\u001b[49m\u001b[43m)\u001b[49m\u001b[43m.\u001b[49m\u001b[34;43m__init__\u001b[39;49m\u001b[43m(\u001b[49m\u001b[43msize\u001b[49m\u001b[43m=\u001b[49m\u001b[43msize\u001b[49m\u001b[43m,\u001b[49m\u001b[43m \u001b[49m\u001b[43mcomponents\u001b[49m\u001b[43m=\u001b[49m\u001b[38;5;28;43;01mNone\u001b[39;49;00m\u001b[43m,\u001b[49m\u001b[43m \u001b[49m\u001b[43mcomponent_masses\u001b[49m\u001b[43m=\u001b[49m\u001b[38;5;28;43;01mNone\u001b[39;49;00m\u001b[43m,\u001b[49m\u001b[43m \u001b[49m\u001b[43m*\u001b[49m\u001b[43m*\u001b[49m\u001b[43mkwargs\u001b[49m\u001b[43m)\u001b[49m\n\u001b[32m   1176\u001b[39m \u001b[38;5;28mself\u001b[39m.__citations__.append(\u001b[33m\"\u001b[39m\u001b[33mPascale+2019\u001b[39m\u001b[33m\"\u001b[39m)\n",
      "\u001b[36mFile \u001b[39m\u001b[32m~/codes/cogsworth/cogsworth/sfh.py:738\u001b[39m, in \u001b[36mDistributionFunctionBasedSFH.__init__\u001b[39m\u001b[34m(self, size, potential, df, **kwargs)\u001b[39m\n\u001b[32m    737\u001b[39m \u001b[38;5;28;01mdef\u001b[39;00m\u001b[38;5;250m \u001b[39m\u001b[34m__init__\u001b[39m(\u001b[38;5;28mself\u001b[39m, size, potential, df, **kwargs):\n\u001b[32m--> \u001b[39m\u001b[32m738\u001b[39m     \u001b[38;5;28;01massert\u001b[39;00m \u001b[43mcheck_dependencies\u001b[49m\u001b[43m(\u001b[49m\u001b[33;43m\"\u001b[39;49m\u001b[33;43magama\u001b[39;49m\u001b[33;43m\"\u001b[39;49m\u001b[43m)\u001b[49m\n\u001b[32m    739\u001b[39m     \u001b[38;5;28;01mimport\u001b[39;00m\u001b[38;5;250m \u001b[39m\u001b[34;01magama\u001b[39;00m\n\u001b[32m    740\u001b[39m     agama.setUnits(**{k: galactic[k] \u001b[38;5;28;01mfor\u001b[39;00m k \u001b[38;5;129;01min\u001b[39;00m [\u001b[33m'\u001b[39m\u001b[33mlength\u001b[39m\u001b[33m'\u001b[39m, \u001b[33m'\u001b[39m\u001b[33mmass\u001b[39m\u001b[33m'\u001b[39m, \u001b[33m'\u001b[39m\u001b[33mtime\u001b[39m\u001b[33m'\u001b[39m]})\n",
      "\u001b[36mFile \u001b[39m\u001b[32m~/codes/cogsworth/cogsworth/tests/optional_deps.py:52\u001b[39m, in \u001b[36mcheck_dependencies\u001b[39m\u001b[34m(names)\u001b[39m\n\u001b[32m     49\u001b[39m                 logging.getLogger(\u001b[33m\"\u001b[39m\u001b[33misochrones\u001b[39m\u001b[33m\"\u001b[39m).setLevel(\u001b[33m\"\u001b[39m\u001b[33mWARNING\u001b[39m\u001b[33m\"\u001b[39m)\n\u001b[32m     51\u001b[39m         \u001b[38;5;28;01mexcept\u001b[39;00m (\u001b[38;5;167;01mImportError\u001b[39;00m, \u001b[38;5;167;01mModuleNotFoundError\u001b[39;00m):\n\u001b[32m---> \u001b[39m\u001b[32m52\u001b[39m             \u001b[38;5;28;01mraise\u001b[39;00m \u001b[38;5;167;01mImportError\u001b[39;00m((\u001b[33mf\u001b[39m\u001b[33m\"\u001b[39m\u001b[33m`\u001b[39m\u001b[38;5;132;01m{\u001b[39;00mmodule_name\u001b[38;5;132;01m}\u001b[39;00m\u001b[33m` required for \u001b[39m\u001b[38;5;132;01m{\u001b[39;00mpurpose\u001b[38;5;132;01m}\u001b[39;00m\u001b[33m with cogsworth\u001b[39m\u001b[38;5;130;01m\\n\u001b[39;00m\u001b[33m\"\u001b[39m\n\u001b[32m     53\u001b[39m                                \u001b[33m\"\u001b[39m\u001b[33mEither install this package directly, or install all optional \u001b[39m\u001b[33m\"\u001b[39m\n\u001b[32m     54\u001b[39m                                \u001b[33m\"\u001b[39m\u001b[33m`cogsworth` dependencies with `pip install cogsworth[all]`\u001b[39m\u001b[38;5;130;01m\\n\u001b[39;00m\u001b[33m\"\u001b[39m))\n\u001b[32m     55\u001b[39m \u001b[38;5;28;01melse\u001b[39;00m:\n\u001b[32m     56\u001b[39m     \u001b[38;5;28;01mraise\u001b[39;00m \u001b[38;5;167;01mAttributeError\u001b[39;00m(\u001b[33mf\u001b[39m\u001b[33m\"\u001b[39m\u001b[33mModule \u001b[39m\u001b[38;5;132;01m{\u001b[39;00m\u001b[34m__name__\u001b[39m\u001b[38;5;132;01m!r}\u001b[39;00m\u001b[33m has no attribute \u001b[39m\u001b[38;5;132;01m{\u001b[39;00mname\u001b[38;5;132;01m!r}\u001b[39;00m\u001b[33m.\u001b[39m\u001b[33m\"\u001b[39m)\n",
      "\u001b[31mImportError\u001b[39m: `agama` required for action-based potentials with cogsworth\nEither install this package directly, or install all optional `cogsworth` dependencies with `pip install cogsworth[all]`\n"
     ]
    }
   ],
   "source": [
    "carina = cogsworth.sfh.CarinaDwarf(size=100000, fixed_Z=0.001, tau_min=6.9 * u.Gyr, galaxy_age=7 * u.Gyr)"
   ]
  },
  {
   "cell_type": "raw",
   "id": "6a9afbe2-d3d7-4cc3-a04f-b583e387a620",
   "metadata": {
    "raw_mimetype": "text/restructuredtext",
    "tags": []
   },
   "source": [
    "Wrap-up\n",
    "=======\n",
    "\n",
    "And that's all for interfacing ``cogsworth`` with ``LEGWORK`` - check out the `LEGWORK documentation <https://legwork.readthedocs.io>`_ to learn more about how you can predict LISA signals from your binaries."
   ]
  }
 ],
 "metadata": {
  "kernelspec": {
   "display_name": "cogsworth",
   "language": "python",
   "name": "python3"
  },
  "language_info": {
   "codemirror_mode": {
    "name": "ipython",
    "version": 3
   },
   "file_extension": ".py",
   "mimetype": "text/x-python",
   "name": "python",
   "nbconvert_exporter": "python",
   "pygments_lexer": "ipython3",
   "version": "3.11.14"
  }
 },
 "nbformat": 4,
 "nbformat_minor": 5
}
