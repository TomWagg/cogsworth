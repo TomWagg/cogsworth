{
 "cells": [
  {
   "cell_type": "raw",
   "id": "3589c2fc-9407-4207-9547-c7be3625a354",
   "metadata": {
    "raw_mimetype": "text/restructuredtext",
    "tags": []
   },
   "source": [
    "***********************************\n",
    "Predicting observed Gaia population\n",
    "***********************************\n",
    "\n",
    "Once you've computed the photometry of your sources it's nice and simple to predict the portion of your population that observable by Gaia. Let's talk about how to do it!\n",
    "\n",
    "Learning Goals\n",
    "==============\n",
    "By the end of this tutorial you should know how to:\n",
    "\n",
    "- Apply the Gaia empirical selection function to your source photometry in a :class:`~cogsworth.pop.Population`"
   ]
  }
 ],
 "metadata": {
  "kernelspec": {
   "display_name": "Python 3 (ipykernel)",
   "language": "python",
   "name": "python3"
  },
  "language_info": {
   "codemirror_mode": {
    "name": "ipython",
    "version": 3
   },
   "file_extension": ".py",
   "mimetype": "text/x-python",
   "name": "python",
   "nbconvert_exporter": "python",
   "pygments_lexer": "ipython3",
   "version": "3.10.11"
  }
 },
 "nbformat": 4,
 "nbformat_minor": 5
}
