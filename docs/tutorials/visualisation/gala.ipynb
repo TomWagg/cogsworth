{
 "cells": [
  {
   "cell_type": "raw",
   "id": "3589c2fc-9407-4207-9547-c7be3625a354",
   "metadata": {
    "raw_mimetype": "text/restructuredtext",
    "tags": []
   },
   "source": [
    "******************************\n",
    "Plotting potentials and orbits\n",
    "******************************\n",
    "\n",
    "``cogsworth`` combines population synthesis with galactic dynamics done with :mod:`gala`. Though the :mod:`gala` documentation of course will give a comprehensive overview, in this tutorial I'll highlight some very useful features and ways to visualise your outputs.\n",
    "\n",
    "Learning Goals\n",
    "==============\n",
    "By the end of this tutorial you should know how to:\n",
    "\n",
    "- Calculate simple values for Potentials (such as :class:`~gala.potential.potential.MilkyWayPotential`), like escape velocities\n",
    "- Plot and animate an :class:`~gala.dynamics.Orbit`\n",
    "- Read the :mod:`gala` docs for proper details ;)"
   ]
  },
  {
   "cell_type": "code",
   "execution_count": 2,
   "id": "7ff41237-e011-4130-bd71-01c56291d6af",
   "metadata": {},
   "outputs": [],
   "source": [
    "import cogsworth\n",
    "import matplotlib.pyplot as plt\n",
    "import numpy as np\n",
    "import pandas as pd\n",
    "import astropy.units as u"
   ]
  },
  {
   "cell_type": "code",
   "execution_count": 7,
   "id": "b9e88a77-48ed-4f61-9182-02b1ef1edf46",
   "metadata": {},
   "outputs": [],
   "source": [
    "# this all just makes plots look nice\n",
    "%config InlineBackend.figure_format = 'retina'\n",
    "\n",
    "plt.rc('font', family='serif')\n",
    "plt.rcParams['text.usetex'] = False\n",
    "fs = 24\n",
    "\n",
    "# update various fontsizes to match\n",
    "params = {'figure.figsize': (12, 8),\n",
    "          'legend.fontsize': fs,\n",
    "          'axes.labelsize': fs,\n",
    "          'xtick.labelsize': 0.9 * fs,\n",
    "          'ytick.labelsize': 0.9 * fs,\n",
    "          'axes.linewidth': 1.1,\n",
    "          'xtick.major.size': 7,\n",
    "          'xtick.minor.size': 4,\n",
    "          'ytick.major.size': 7,\n",
    "          'ytick.minor.size': 4}\n",
    "plt.rcParams.update(params)\n",
    "pd.options.display.max_columns = 999"
   ]
  }
 ],
 "metadata": {
  "kernelspec": {
   "display_name": "Python 3 (ipykernel)",
   "language": "python",
   "name": "python3"
  },
  "language_info": {
   "codemirror_mode": {
    "name": "ipython",
    "version": 3
   },
   "file_extension": ".py",
   "mimetype": "text/x-python",
   "name": "python",
   "nbconvert_exporter": "python",
   "pygments_lexer": "ipython3",
   "version": "3.10.11"
  }
 },
 "nbformat": 4,
 "nbformat_minor": 5
}
