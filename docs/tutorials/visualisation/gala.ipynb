{
 "cells": [
  {
   "cell_type": "raw",
   "id": "3589c2fc-9407-4207-9547-c7be3625a354",
   "metadata": {
    "raw_mimetype": "text/restructuredtext",
    "tags": []
   },
   "source": [
    "**********************************\n",
    "Gala highlights and visualisations\n",
    "**********************************\n",
    "\n",
    "Critically, ``cogsworth`` combines population synthesis with galactic dynamics done with :mod:`gala`. Though the :mod:`gala` documentation of course will give a comprehensive overview, in this tutorial I'll highlight some very useful features and ways to visualise your outputs.\n",
    "\n",
    "Learning Goals\n",
    "==============\n",
    "By the end of this tutorial you should know how to:\n",
    "\n",
    "- Calculate simple values for Potentials (such as :class:`~gala.potential.potential.MilkyWayPotential`), like escape velocities\n",
    "- Plot and animate an :class:`~gala.dynamics.Orbit`\n",
    "- Read the :mod:`gala` docs for proper details ;)"
   ]
  }
 ],
 "metadata": {
  "kernelspec": {
   "display_name": "Python 3 (ipykernel)",
   "language": "python",
   "name": "python3"
  },
  "language_info": {
   "codemirror_mode": {
    "name": "ipython",
    "version": 3
   },
   "file_extension": ".py",
   "mimetype": "text/x-python",
   "name": "python",
   "nbconvert_exporter": "python",
   "pygments_lexer": "ipython3",
   "version": "3.10.11"
  }
 },
 "nbformat": 4,
 "nbformat_minor": 5
}
