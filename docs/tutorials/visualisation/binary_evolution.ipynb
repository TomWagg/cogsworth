{
 "cells": [
  {
   "cell_type": "raw",
   "id": "3589c2fc-9407-4207-9547-c7be3625a354",
   "metadata": {
    "raw_mimetype": "text/restructuredtext",
    "tags": []
   },
   "source": [
    "****************************************\n",
    "Illustrating individual binary evolution\n",
    "****************************************\n",
    "\n",
    "Understanding and investigating your populations of binaries becomes much easier when you know how to illustrate the evolution of a given binary. In this tutorial we'll talk all about that.\n",
    "\n",
    "Learning Goals\n",
    "==============\n",
    "By the end of this tutorial you should know how to:\n",
    "\n",
    "- Plot a simple cartoon of a binary's evolution\n",
    "- Use ``COSMIC`` to plot detailed evolution of particular binary parameters"
   ]
  }
 ],
 "metadata": {
  "kernelspec": {
   "display_name": "Python 3 (ipykernel)",
   "language": "python",
   "name": "python3"
  },
  "language_info": {
   "codemirror_mode": {
    "name": "ipython",
    "version": 3
   },
   "file_extension": ".py",
   "mimetype": "text/x-python",
   "name": "python",
   "nbconvert_exporter": "python",
   "pygments_lexer": "ipython3",
   "version": "3.10.11"
  }
 },
 "nbformat": 4,
 "nbformat_minor": 5
}
