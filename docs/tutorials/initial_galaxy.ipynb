{
 "cells": [
  {
   "cell_type": "raw",
   "id": "3589c2fc-9407-4207-9547-c7be3625a354",
   "metadata": {
    "raw_mimetype": "text/restructuredtext",
    "tags": []
   },
   "source": [
    "**********************************************\n",
    "Creating custom galactic star formation models\n",
    "**********************************************\n",
    "\n",
    "In addition to the built in galactic star formation models in ``cogsworth``, you can also create your own and use it to generate a population. In this tutorial we'll walk through how one could do this.\n",
    "\n",
    "Learning Goals\n",
    "==============\n",
    "By the end of this tutorial you should know how to:\n",
    "\n",
    "- Change the star formation model used in a :class:`~cogsworth.galaxy.Galaxy` or :class:`~cogsworth.pop.Population`\n",
    "- Create a custom star formation model"
   ]
  }
 ],
 "metadata": {
  "kernelspec": {
   "display_name": "Python 3 (ipykernel)",
   "language": "python",
   "name": "python3"
  },
  "language_info": {
   "codemirror_mode": {
    "name": "ipython",
    "version": 3
   },
   "file_extension": ".py",
   "mimetype": "text/x-python",
   "name": "python",
   "nbconvert_exporter": "python",
   "pygments_lexer": "ipython3",
   "version": "3.10.11"
  }
 },
 "nbformat": 4,
 "nbformat_minor": 5
}
