{
 "cells": [
  {
   "cell_type": "raw",
   "id": "3589c2fc-9407-4207-9547-c7be3625a354",
   "metadata": {
    "raw_mimetype": "text/restructuredtext",
    "tags": []
   },
   "source": [
    "****************************\n",
    "Estimating source photometry\n",
    "****************************\n",
    "\n",
    "In addition to the theoretical predictions of locations, kinematics and stellar distributions of sources, you may also wish to estimate the photometry of sources in your simulation. This tutorial will show you how to do this!\n",
    "\n",
    "Learning Goals\n",
    "==============\n",
    "By the end of this tutorial you should know how to:\n",
    "\n",
    "- Compute the photometry of sources in a :class:`~cogsworth.pop.Population`\n",
    "- Apply dust map extinction to the photometry of sources\n",
    "- Use custom distances for non-Milky Way simulations"
   ]
  }
 ],
 "metadata": {
  "kernelspec": {
   "display_name": "Python 3 (ipykernel)",
   "language": "python",
   "name": "python3"
  },
  "language_info": {
   "codemirror_mode": {
    "name": "ipython",
    "version": 3
   },
   "file_extension": ".py",
   "mimetype": "text/x-python",
   "name": "python",
   "nbconvert_exporter": "python",
   "pygments_lexer": "ipython3",
   "version": "3.10.11"
  }
 },
 "nbformat": 4,
 "nbformat_minor": 5
}
