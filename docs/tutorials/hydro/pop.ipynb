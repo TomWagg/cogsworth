{
 "cells": [
  {
   "cell_type": "raw",
   "id": "3589c2fc-9407-4207-9547-c7be3625a354",
   "metadata": {
    "raw_mimetype": "text/restructuredtext",
    "tags": [],
    "vscode": {
     "languageId": "raw"
    }
   },
   "source": [
    "***********************************\n",
    "Creating populations from snapshots\n",
    "***********************************\n",
    "\n",
    "Time for part two of learning about using hydrodynamical zoom-in simulations in ``cogsworth``. Now we're going to put what we learnt into action in creating a :class:`~cogsworth.hydro.pop.HydroPopulation`.\n",
    "\n",
    "Learning Goals\n",
    "==============\n",
    "By the end of this tutorial you should know:\n",
    "\n",
    "- How to initialise a :class:`~cogsworth.hydro.pop.HydroPopulation`\n",
    "- The differences between a :class:`~cogsworth.hydro.pop.HydroPopulation` and a regular :class:`~cogsworth.pop.Population`\n",
    "\n",
    ".. admonition:: Beware - extra dependencies required here!\n",
    "    :class: warning\n",
    "\n",
    "    You'll need to have installed the extra dependencies of ``cogsworth`` to postprocess hydrodynamical simulations. Check out the `installation page <../../pages/install.rst>`_ for more details on how to do this! (You'll *probably* just need to run ``pip install cogsworth[extras]``)"
   ]
  },
  {
   "cell_type": "code",
   "execution_count": 1,
   "id": "9a29b042",
   "metadata": {},
   "outputs": [],
   "source": [
    "import cogsworth\n",
    "import gala.potential as gp\n",
    "import astropy.units as u\n",
    "import matplotlib.pyplot as plt\n",
    "import pandas as pd"
   ]
  },
  {
   "cell_type": "code",
   "execution_count": 2,
   "id": "4f7ef3ba-8dc6-404e-bd3e-6ec14ec264a0",
   "metadata": {},
   "outputs": [],
   "source": [
    "# this all just makes plots look nice\n",
    "%config InlineBackend.figure_format = 'retina'\n",
    "\n",
    "plt.rc('font', family='serif')\n",
    "plt.rcParams['text.usetex'] = False\n",
    "fs = 24\n",
    "\n",
    "# update various fontsizes to match\n",
    "params = {'figure.figsize': (12, 8),\n",
    "          'legend.fontsize': fs,\n",
    "          'axes.labelsize': fs,\n",
    "          'xtick.labelsize': 0.9 * fs,\n",
    "          'ytick.labelsize': 0.9 * fs,\n",
    "          'axes.linewidth': 1.1,\n",
    "          'xtick.major.size': 7,\n",
    "          'xtick.minor.size': 4,\n",
    "          'ytick.major.size': 7,\n",
    "          'ytick.minor.size': 4}\n",
    "plt.rcParams.update(params)"
   ]
  },
  {
   "cell_type": "raw",
   "id": "9de515cb-c3ef-459c-8076-df4cb7a958cf",
   "metadata": {
    "raw_mimetype": "text/restructuredtext",
    "tags": []
   },
   "source": [
    ".. admonition:: Here's one I made earlier...\n",
    "    \n",
    "\n",
    "    In this tutorial I'm going to cheat and use a collection of star particles/a potential that I created from the FIRE m11h snapshot. Check out the previous tutorial (press your left arrow key) to find out where to download this snapshot and how to rewind star particles/calculate a galactic potential from a snapshot"
   ]
  },
  {
   "cell_type": "raw",
   "id": "cb7cc75b-72d4-4829-bb77-544dad0b52a3",
   "metadata": {
    "raw_mimetype": "text/restructuredtext",
    "tags": []
   },
   "source": [
    "``HydroPopulation`` creation\n",
    "============================\n",
    "\n",
    "As we talked about in the last tutorial, a :class:`~cogsworth.hydro.pop.HydroPopulation` can be very useful for properly accounting for a more complex star formation history (e.g. including initial spatial stellar clustering) and galactic potentials.\n",
    "\n",
    "A :class:`~cogsworth.hydro.pop.HydroPopulation` samples a subpopulation of systems from each of the star particles that are supplied. The positions and velocities of these systems are determined by their parent star particle and are given small offsets in position to account for the nonzero cluster radii and a velocity dispersion based on the cluster mass, radius and virial parameter.\n",
    "\n",
    "Let's start by creating a (very simple) :class:`~cogsworth.hydro.pop.HydroPopulation` based on FIRE m11h."
   ]
  },
  {
   "cell_type": "code",
   "execution_count": 3,
   "id": "23eae691-be7b-4dd1-81ca-1208a17d516e",
   "metadata": {},
   "outputs": [],
   "source": [
    "# load in some star particles and the potential we've made in a previous tutorial\n",
    "star_particles = pd.read_hdf(\"../../../data/init_star_particles_m11h.h5\")\n",
    "pot = gp.load(\"../../../data/m11h.yml\")"
   ]
  },
  {
   "cell_type": "code",
   "execution_count": 4,
   "id": "1be800a3-0afe-4331-927f-664eccc91f1d",
   "metadata": {},
   "outputs": [],
   "source": [
    "# take out a single particle and reduce the mass to speed up the runtime\n",
    "particle = star_particles.iloc[[0]].copy()\n",
    "particle[\"mass\"] = 200"
   ]
  },
  {
   "cell_type": "markdown",
   "id": "1429c35a-1006-4ec9-863f-ec50453c6083",
   "metadata": {},
   "source": [
    "Creating a new population requires a couple of extra parameters from a regular one. In this case we can now specify the star particles from which to sample as well as details for how the cluster radius, mass and virial parameter are determined (which sets the position/velocity sampling as we mentioned above)."
   ]
  },
  {
   "cell_type": "code",
   "execution_count": 5,
   "id": "90fb69ed-d505-40ea-87ed-c8b8455272cb",
   "metadata": {},
   "outputs": [
    {
     "data": {
      "text/plain": [
       "<HydroPopulation - 1 star particles - galactic_potential=CompositePotential, SFH=Wagg2022>"
      ]
     },
     "execution_count": 5,
     "metadata": {},
     "output_type": "execute_result"
    }
   ],
   "source": [
    "# create a new HydroPopulation\n",
    "p = cogsworth.hydro.pop.HydroPopulation(star_particles=particle,\n",
    "                                        galactic_potential=pot,\n",
    "                                        cluster_radius=3 * u.pc,\n",
    "                                        cluster_mass=10000 * u.Msun,\n",
    "                                        virial_parameter=1.0,\n",
    "                                        max_ev_time=13.736 * u.Gyr,\n",
    "                                        processes=1,\n",
    "                                        use_default_BSE_settings=True)\n",
    "p"
   ]
  },
  {
   "cell_type": "markdown",
   "id": "0756232d-442c-48b3-ac3a-85ea2398edda",
   "metadata": {},
   "source": [
    "The population will now keep track of how many star particles are being used (and once we evolve the population it'll tell you how many systems as well)."
   ]
  },
  {
   "cell_type": "code",
   "execution_count": 6,
   "id": "501dbd49-f002-45c7-8764-ab8c207aeba7",
   "metadata": {},
   "outputs": [
    {
     "name": "stdout",
     "output_type": "stream",
     "text": [
      "Run for None binaries\n",
      "Ended up with 95 binaries with m1 > 0 solar masses\n",
      "[8e-03s] Sample initial binaries\n",
      "[0.1s] Evolve binaries (run COSMIC)\n",
      "[0.2s] Get orbits (run gala)\n",
      "Overall: 0.3s\n"
     ]
    },
    {
     "data": {
      "text/plain": [
       "<HydroPopulation - 1 star particles - 95 evolved systems - galactic_potential=CompositePotential, SFH=Wagg2022>"
      ]
     },
     "execution_count": 6,
     "metadata": {},
     "output_type": "execute_result"
    }
   ],
   "source": [
    "p.create_population()\n",
    "p"
   ]
  },
  {
   "cell_type": "raw",
   "id": "88a7ddd6-21dd-466c-b1d5-d70a14c02cb9",
   "metadata": {
    "raw_mimetype": "text/restructuredtext",
    "tags": []
   },
   "source": [
    "Excellent! And now we can do all of the regular :class:`~cogsworth.pop.Population` things that we know and love on our shiny new :class:`~cogsworth.hydro.pop.HydroPopulation`!"
   ]
  },
  {
   "cell_type": "raw",
   "id": "602017fd-0978-4fdb-ae49-c67af8e4be37",
   "metadata": {
    "raw_mimetype": "text/restructuredtext",
    "tags": []
   },
   "source": [
    "Differences from ``Population``\n",
    "===============================\n",
    "\n",
    "Lastly, let's just explore some of the differences from a regular :class:`~cogsworth.pop.Population`. There's of course the new parameters which we can access and track:"
   ]
  },
  {
   "cell_type": "code",
   "execution_count": 13,
   "id": "b26426cf-90b2-4c36-bbf3-b6d8785e3b4a",
   "metadata": {},
   "outputs": [
    {
     "data": {
      "text/html": [
       "<div>\n",
       "<style scoped>\n",
       "    .dataframe tbody tr th:only-of-type {\n",
       "        vertical-align: middle;\n",
       "    }\n",
       "\n",
       "    .dataframe tbody tr th {\n",
       "        vertical-align: top;\n",
       "    }\n",
       "\n",
       "    .dataframe thead th {\n",
       "        text-align: right;\n",
       "    }\n",
       "</style>\n",
       "<table border=\"1\" class=\"dataframe\">\n",
       "  <thead>\n",
       "    <tr style=\"text-align: right;\">\n",
       "      <th></th>\n",
       "      <th>id</th>\n",
       "      <th>mass</th>\n",
       "      <th>Z</th>\n",
       "      <th>t_form</th>\n",
       "      <th>x</th>\n",
       "      <th>y</th>\n",
       "      <th>z</th>\n",
       "      <th>v_x</th>\n",
       "      <th>v_y</th>\n",
       "      <th>v_z</th>\n",
       "    </tr>\n",
       "  </thead>\n",
       "  <tbody>\n",
       "    <tr>\n",
       "      <th>0</th>\n",
       "      <td>5726876</td>\n",
       "      <td>200</td>\n",
       "      <td>0.014378</td>\n",
       "      <td>13.735638</td>\n",
       "      <td>-3.984967</td>\n",
       "      <td>-6.560426</td>\n",
       "      <td>0.89052</td>\n",
       "      <td>77.782451</td>\n",
       "      <td>-49.182975</td>\n",
       "      <td>39.996301</td>\n",
       "    </tr>\n",
       "  </tbody>\n",
       "</table>\n",
       "</div>"
      ],
      "text/plain": [
       "        id  mass         Z     t_form         x         y        z        v_x  \\\n",
       "0  5726876   200  0.014378  13.735638 -3.984967 -6.560426  0.89052  77.782451   \n",
       "\n",
       "         v_y        v_z  \n",
       "0 -49.182975  39.996301  "
      ]
     },
     "execution_count": 13,
     "metadata": {},
     "output_type": "execute_result"
    }
   ],
   "source": [
    "p.star_particles"
   ]
  },
  {
   "cell_type": "code",
   "execution_count": 17,
   "id": "cc4e414e-8f9c-4e89-8ea3-6fda8b3f8eb5",
   "metadata": {},
   "outputs": [
    {
     "data": {
      "text/plain": [
       "(<Quantity 10000. solMass>, <Quantity 3. pc>, 1.0)"
      ]
     },
     "execution_count": 17,
     "metadata": {},
     "output_type": "execute_result"
    }
   ],
   "source": [
    "p.cluster_mass, p.cluster_radius, p.virial_parameter"
   ]
  },
  {
   "cell_type": "markdown",
   "id": "cfb946b6-8839-4929-a556-ea07b1a886ff",
   "metadata": {},
   "source": [
    "We could update any of these and re-run the population to get new results, feel free to try it for yourself!\n",
    "\n",
    "Additionally, the initial conditions now track not only the system information, but also which particle it came from so that you can reconnect systems to their parent star particles."
   ]
  },
  {
   "cell_type": "code",
   "execution_count": 19,
   "id": "d1c90972-d312-4c4b-95a4-77b18efbd35e",
   "metadata": {},
   "outputs": [
    {
     "data": {
      "text/plain": [
       "0     0\n",
       "1     0\n",
       "2     0\n",
       "3     0\n",
       "4     0\n",
       "     ..\n",
       "90    0\n",
       "91    0\n",
       "92    0\n",
       "93    0\n",
       "94    0\n",
       "Name: particle_id, Length: 95, dtype: int64"
      ]
     },
     "execution_count": 19,
     "metadata": {},
     "output_type": "execute_result"
    }
   ],
   "source": [
    "p.initC[\"particle_id\"]"
   ]
  },
  {
   "cell_type": "raw",
   "id": "7d73900b-bd37-4d7c-9663-b6f82e6b6bf4",
   "metadata": {
    "raw_mimetype": "text/restructuredtext",
    "tags": []
   },
   "source": [
    "Wrap-up\n",
    "=======\n",
    "\n",
    "And that's all for learning about using hydrodynamical zoom-in simulations in ``cogsworth``, hope you had fun! Head over to the main `tutorials page <../../pages/tutorials.rst>`_ for more options of learning about all things ``cogsworth``, see you there!"
   ]
  }
 ],
 "metadata": {
  "execution": {
   "allow_errors": true,
   "timeout": 300
  },
  "kernelspec": {
   "display_name": "Python 3 (ipykernel)",
   "language": "python",
   "name": "python3"
  },
  "language_info": {
   "codemirror_mode": {
    "name": "ipython",
    "version": 3
   },
   "file_extension": ".py",
   "mimetype": "text/x-python",
   "name": "python",
   "nbconvert_exporter": "python",
   "pygments_lexer": "ipython3",
   "version": "3.10.11"
  },
  "toc-showtags": false
 },
 "nbformat": 4,
 "nbformat_minor": 5
}
