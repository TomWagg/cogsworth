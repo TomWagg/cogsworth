{
 "cells": [
  {
   "cell_type": "raw",
   "id": "f86144c2",
   "metadata": {
    "raw_mimetype": "text/restructuredtext",
    "tags": []
   },
   "source": [
    "*******************************************\n",
    "Changing the way in which stars are sampled\n",
    "*******************************************\n",
    "\n",
    "With ``cogsworth`` you can change all sorts of aspects of how you sample your initial stellar population, let's talk about how this works.\n",
    "\n",
    "Learning Goals\n",
    "==============\n",
    "By the end of this tutorial you should know how to:\n",
    "\n",
    "- Vary initial stellar sampling parameters using the :attr:`~cogsworth.pop.Population.sampling_params`\n",
    "- Target a sample mass instead of a number of binaries\n",
    "- Include single stars in your population instead of just binaries"
   ]
  }
 ],
 "metadata": {
  "kernelspec": {
   "display_name": "Python 3 (ipykernel)",
   "language": "python",
   "name": "python3"
  },
  "language_info": {
   "codemirror_mode": {
    "name": "ipython",
    "version": 3
   },
   "file_extension": ".py",
   "mimetype": "text/x-python",
   "name": "python",
   "nbconvert_exporter": "python",
   "pygments_lexer": "ipython3",
   "version": "3.10.11"
  }
 },
 "nbformat": 4,
 "nbformat_minor": 5
}
