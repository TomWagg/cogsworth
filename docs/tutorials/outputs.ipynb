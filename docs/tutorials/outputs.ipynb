{
 "cells": [
  {
   "cell_type": "raw",
   "id": "3589c2fc-9407-4207-9547-c7be3625a354",
   "metadata": {
    "raw_mimetype": "text/restructuredtext",
    "tags": []
   },
   "source": [
    "************************************\n",
    "Understanding the simulation outputs\n",
    "************************************\n",
    "\n",
    "Now that you've run your first ``cogsworth`` simulation it's time to understand how to interpret the outputs!\n",
    "\n",
    "Learning Goals\n",
    "==============\n",
    "By the end of this tutorial you should know how to:\n",
    "\n",
    "- Retrieve initial conditions from :attr:`~cogsworth.pop.Population.initC` and :attr:`~cogsworth.pop.Population.initial_galaxy`\n",
    "- Interpret stellar evolution information from the :attr:`~cogsworth.pop.Population.bpp`, :attr:`~cogsworth.pop.Population.bcm` and :attr:`~cogsworth.pop.Population.kick_info` tables\n",
    "- Understand how to access orbits of systems as well as final positions and velocities with :attr:`~cogsworth.pop.Population.orbits`, :attr:`~cogsworth.pop.Population.final_pos` and :attr:`~cogsworth.pop.Population.final_vel`"
   ]
  }
 ],
 "metadata": {
  "kernelspec": {
   "display_name": "Python 3 (ipykernel)",
   "language": "python",
   "name": "python3"
  },
  "language_info": {
   "codemirror_mode": {
    "name": "ipython",
    "version": 3
   },
   "file_extension": ".py",
   "mimetype": "text/x-python",
   "name": "python",
   "nbconvert_exporter": "python",
   "pygments_lexer": "ipython3",
   "version": "3.10.11"
  }
 },
 "nbformat": 4,
 "nbformat_minor": 5
}
