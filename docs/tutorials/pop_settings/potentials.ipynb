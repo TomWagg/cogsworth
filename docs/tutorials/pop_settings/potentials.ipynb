{
 "cells": [
  {
   "cell_type": "raw",
   "id": "3589c2fc-9407-4207-9547-c7be3625a354",
   "metadata": {
    "raw_mimetype": "text/restructuredtext",
    "tags": []
   },
   "source": [
    "************************************\n",
    "Using a different galactic potential\n",
    "************************************\n",
    "\n",
    "``cogsworth`` offers all of the same flexibility as ``Gala`` for defining how to evolve things in galaxy, some might even say it has a lot of *potential*...\n",
    "\n",
    "Anyway in this tutorials let's go through how to change your galactic potential!\n",
    "\n",
    "Learning Goals\n",
    "==============\n",
    "By the end of this tutorial you should know how to:\n",
    "\n",
    "- Change the galactic potential used in a :class:`~cogsworth.pop.Population`"
   ]
  }
 ],
 "metadata": {
  "kernelspec": {
   "display_name": "Python 3 (ipykernel)",
   "language": "python",
   "name": "python3"
  },
  "language_info": {
   "codemirror_mode": {
    "name": "ipython",
    "version": 3
   },
   "file_extension": ".py",
   "mimetype": "text/x-python",
   "name": "python",
   "nbconvert_exporter": "python",
   "pygments_lexer": "ipython3",
   "version": "3.10.11"
  }
 },
 "nbformat": 4,
 "nbformat_minor": 5
}
