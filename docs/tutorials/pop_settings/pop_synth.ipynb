{
 "cells": [
  {
   "cell_type": "raw",
   "id": "f86144c2",
   "metadata": {
    "raw_mimetype": "text/restructuredtext",
    "tags": []
   },
   "source": [
    "************************************\n",
    "Varying stellar evolution parameters\n",
    "************************************\n",
    "\n",
    "``cogsworth`` offers all of the same flexibility as ``COSMIC`` for changing stellar evolution parameters. In this tutorials we'll demonstrate how to change them.\n",
    "\n",
    "Learning Goals\n",
    "==============\n",
    "By the end of this tutorial you should know how to:\n",
    "\n",
    "- Vary stellar evolution parameters using the :attr:`~cogsworth.pop.Population.BSE_settings`"
   ]
  },
  {
   "cell_type": "code",
   "execution_count": 1,
   "id": "c8e98d21-0a0b-46fa-bcd3-dca990d0fd1b",
   "metadata": {},
   "outputs": [],
   "source": [
    "import cogsworth\n",
    "import matplotlib.pyplot as plt\n",
    "import numpy as np\n",
    "import pandas as pd"
   ]
  },
  {
   "cell_type": "code",
   "execution_count": 2,
   "id": "c449b9d4-343f-41b4-b174-de81065dbdc9",
   "metadata": {},
   "outputs": [],
   "source": [
    "# this all just makes plots look nice\n",
    "%config InlineBackend.figure_format = 'retina'\n",
    "\n",
    "plt.rc('font', family='serif')\n",
    "plt.rcParams['text.usetex'] = False\n",
    "fs = 24\n",
    "\n",
    "# update various fontsizes to match\n",
    "params = {'figure.figsize': (12, 8),\n",
    "          'legend.fontsize': fs,\n",
    "          'axes.labelsize': fs,\n",
    "          'xtick.labelsize': 0.9 * fs,\n",
    "          'ytick.labelsize': 0.9 * fs,\n",
    "          'axes.linewidth': 1.1,\n",
    "          'xtick.major.size': 7,\n",
    "          'xtick.minor.size': 4,\n",
    "          'ytick.major.size': 7,\n",
    "          'ytick.minor.size': 4}\n",
    "plt.rcParams.update(params)\n",
    "pd.options.display.max_columns = 999"
   ]
  },
  {
   "cell_type": "raw",
   "id": "234bec66-78d5-4656-8d1a-571db1e9c6fb",
   "metadata": {
    "raw_mimetype": "text/restructuredtext",
    "tags": []
   },
   "source": [
    "The ``BSE_settings``\n",
    "====================\n",
    "\n",
    "All population synthesis settings are changed using the ``BSE_settings`` input to the :class:`~cogsworth.pop.Population` (BSE here stands for binary stellar evolution). This dictionary contains the default ``COSMIC`` settings but any of these settings can be overwritten by the user."
   ]
  },
  {
   "cell_type": "raw",
   "id": "ec0e7345-dc88-4a6a-a174-515a13a152cf",
   "metadata": {
    "raw_mimetype": "text/restructuredtext",
    "tags": []
   },
   "source": [
    "Supernova kick example\n",
    "----------------------\n",
    " \n",
    "Let's try an example where we change the strength of supernova natal kicks for two populations (which I've skewed to target systems that are likely to go supernova)"
   ]
  },
  {
   "cell_type": "code",
   "execution_count": 3,
   "id": "93996d72-8cf1-46e1-9f53-adb45a479673",
   "metadata": {},
   "outputs": [],
   "source": [
    "p = cogsworth.pop.Population(n_binaries=100,\n",
    "                             final_kstar1=[13, 14], final_kstar2=[13, 14],\n",
    "                             BSE_settings={\"sigma\": 30})\n",
    "p.sample_initial_binaries()\n",
    "p.perform_stellar_evolution()"
   ]
  },
  {
   "cell_type": "markdown",
   "id": "0861bcf7-9840-4a25-8846-095756017a73",
   "metadata": {},
   "source": [
    "First let's see what fraction of the population were disrupted when drawing kicks from a Maxwellian centred on $30 \\, {\\rm km / s}$"
   ]
  },
  {
   "cell_type": "code",
   "execution_count": 4,
   "id": "a5d0fd2a-a1c5-44b0-85ef-8d3b1a7f9ec6",
   "metadata": {},
   "outputs": [
    {
     "data": {
      "text/plain": [
       "'0.40'"
      ]
     },
     "execution_count": 4,
     "metadata": {},
     "output_type": "execute_result"
    }
   ],
   "source": [
    "# count the number of binaries that got kicks while they hadn't already merged\n",
    "n_kicked = len(p.bpp[((p.bpp[\"evol_type\"] == 15) | (p.bpp[\"evol_type\"] == 16)) & (p.bpp[\"sep\"] != 0.0)][\"bin_num\"].unique())\n",
    "f'{p.disrupted.sum() / n_kicked:1.2f}'"
   ]
  },
  {
   "cell_type": "markdown",
   "id": "23ae1e30-f23c-4cdf-907d-97f522930edb",
   "metadata": {},
   "source": [
    "Now let's change the Maxwellian to be centred on $1000 \\, {\\rm km / s}$ and do the same for electron-capture supernovae."
   ]
  },
  {
   "cell_type": "code",
   "execution_count": 5,
   "id": "61ee2650-6ae8-4d61-82b8-68b18ed1c5ff",
   "metadata": {},
   "outputs": [],
   "source": [
    "p.BSE_settings[\"sigma\"] = 1000\n",
    "p.BSE_settings[\"sigmadiv\"] = -1000\n",
    "p.perform_stellar_evolution()"
   ]
  },
  {
   "cell_type": "code",
   "execution_count": 6,
   "id": "3d147fc0-8f10-4dab-b4d1-483ada3bd8f3",
   "metadata": {},
   "outputs": [
    {
     "data": {
      "text/plain": [
       "'0.93'"
      ]
     },
     "execution_count": 6,
     "metadata": {},
     "output_type": "execute_result"
    }
   ],
   "source": [
    "# count the number of binaries that got kicks while they hadn't already merged\n",
    "n_kicked = len(p.bpp[((p.bpp[\"evol_type\"] == 15) | (p.bpp[\"evol_type\"] == 16)) & (p.bpp[\"sep\"] != 0.0)][\"bin_num\"].unique())\n",
    "f'{p.disrupted.sum() / n_kicked:1.2f}'"
   ]
  },
  {
   "cell_type": "markdown",
   "id": "cfb33baf-3cab-4ca9-8967-b7274fa27508",
   "metadata": {},
   "source": [
    "As you'd expect, the fraction is now much higher (and any that aren't disrupting are likely getting fallback adjusted kicks, got lucky directions, or had extremely high orbital velocities)."
   ]
  },
  {
   "cell_type": "raw",
   "id": "2274ae78-3a0b-43e9-8ffc-210b3f555b3e",
   "metadata": {
    "raw_mimetype": "text/restructuredtext",
    "tags": []
   },
   "source": [
    ".. tip::\n",
    "\n",
    "    Notice that I changed the setting without needing to redefine a new population in this last example (I just updated ``p.BSE_settings``). This also means that I evolved the **same initial population** with different physics. This can be a useful way to ensure that a change in your results is directly due to different physics rather than some sort of stochastic sampling effect."
   ]
  },
  {
   "cell_type": "raw",
   "id": "cfc8a3d7-7dbe-49e9-a20d-28bae5864a9b",
   "metadata": {
    "raw_mimetype": "text/restructuredtext",
    "tags": []
   },
   "source": [
    "Common-envelope example\n",
    "-----------------------\n",
    " \n",
    "Let's do another example in which we change the efficiency of the common-envelope phase (``alpha1``), which is defined as the fraction of orbital energy that goes into unbinding the envelope."
   ]
  },
  {
   "cell_type": "code",
   "execution_count": 18,
   "id": "6f198ade-1078-4ec3-8a7a-b6fcfcfe0c7e",
   "metadata": {},
   "outputs": [
    {
     "name": "stdout",
     "output_type": "stream",
     "text": [
      "Run for alpha = 10\n",
      "  85 binaries experience at least one common-envelope event\n",
      "  25.9% of these resulted in a stellar merger\n",
      "  For surviving systems, mean separation immediately after the CE is 32.97 Rsun\n",
      "\n",
      "Run for alpha = 2\n",
      "  85 binaries experience at least one common-envelope event\n",
      "  64.7% of these resulted in a stellar merger\n",
      "  For surviving systems, mean separation immediately after the CE is 9.07 Rsun\n",
      "\n",
      "Run for alpha = 1\n",
      "  85 binaries experience at least one common-envelope event\n",
      "  76.5% of these resulted in a stellar merger\n",
      "  For surviving systems, mean separation immediately after the CE is 4.58 Rsun\n",
      "\n",
      "Run for alpha = 0.5\n",
      "  85 binaries experience at least one common-envelope event\n",
      "  83.5% of these resulted in a stellar merger\n",
      "  For surviving systems, mean separation immediately after the CE is 1.96 Rsun\n",
      "\n",
      "Run for alpha = 0.1\n",
      "  85 binaries experience at least one common-envelope event\n",
      "  94.1% of these resulted in a stellar merger\n",
      "  For surviving systems, mean separation immediately after the CE is 0.20 Rsun\n",
      "\n"
     ]
    }
   ],
   "source": [
    "# create a population of 100 binaries\n",
    "p = cogsworth.pop.Population(n_binaries=1000)\n",
    "p.sample_initial_binaries()\n",
    "\n",
    "# for a series of different alphas\n",
    "for alpha in [10, 2, 1, 0.5, 0.1]:\n",
    "    # change the setting and perform evolution\n",
    "    p.BSE_settings[\"alpha1\"] = alpha\n",
    "    p.perform_stellar_evolution()\n",
    "    \n",
    "    # find all binaries that start a CE and how many end as a mergers\n",
    "    ce_nums = p.bpp[p.bpp[\"evol_type\"] == 7][\"bin_num\"].unique()\n",
    "    n_merged = (p.final_bpp.loc[ce_nums][\"sep\"] == 0.0).sum()\n",
    "    \n",
    "    # get separations after the first CE for each binary\n",
    "    seps = p.bpp[p.bpp[\"evol_type\"] == 8].drop_duplicates(subset=\"bin_num\", keep=\"first\")[\"sep\"].values\n",
    "    \n",
    "    print(f\"Run for alpha = {alpha}\")\n",
    "    print(f\"  {len(ce_nums)} binaries experience at least one common-envelope event\")\n",
    "    print(f\"  {n_merged / len(ce_nums) * 100:1.1f}% of these resulted in a stellar merger\")\n",
    "    print(f\"  For surviving systems, mean separation immediately after the CE is {np.mean(seps):1.2f} Rsun\\n\")"
   ]
  },
  {
   "cell_type": "raw",
   "id": "dcd5adf7-0b48-4bf4-abe5-b61f609874f9",
   "metadata": {
    "raw_mimetype": "text/restructuredtext",
    "tags": []
   },
   "source": [
    "So what have we learned? Well first of all, the number of binaries that experiences a common-envelope is unaffected by the efficiency - that's definitely what we expect (and we should be worried if it changed!).\n",
    "\n",
    "We see two trends which are that the percentage of systems that merge during the common-envelope increases with lower efficiencies, whilst the mean separation of the surviving systems decreases. Why do you think this is?\n",
    "\n",
    ".. admonition:: And the reason for these trends is...\n",
    "    :class: dropdown, hint\n",
    "    \n",
    "    $\\\\alpha_{\\\\rm CE}$ defines the fraction of the orbital energy that goes into unbinding the envelope. So a lower $\\\\alpha_{\\\\rm CE}$ means that that a binary must inspiral significantly closer before it can achieve the same unbinding energy (and end the common-envelope phase). In many cases, this results in the binary inspiraling too far and merging. Fun!"
   ]
  },
  {
   "cell_type": "raw",
   "id": "e5315a80-901c-4455-8de3-23f603935479",
   "metadata": {
    "raw_mimetype": "text/restructuredtext",
    "tags": []
   },
   "source": [
    "Definitions of all settings\n",
    "===========================\n",
    " \n",
    "All of the many varied potential population synthesis settings are listed in great detail on the COSMIC documentation. You can `check them out here <https://cosmic-popsynth.github.io/COSMIC/inifile/index.html>`_ and find out how to change your favourite bit of physics!"
   ]
  },
  {
   "cell_type": "raw",
   "id": "e36e647d-fe7e-4848-9b53-f3aac312b468",
   "metadata": {
    "raw_mimetype": "text/restructuredtext",
    "tags": []
   },
   "source": [
    "Wrap-up\n",
    "=======\n",
    " \n",
    "And that brings us to the end of this short but sweet tutorial. Be sure to look at the COSMIC docs linked above to find out about all of the parameters (and importantly, their default values!). Read on to learn about changing other settings like the galactic potential or galactic star formation model."
   ]
  }
 ],
 "metadata": {
  "kernelspec": {
   "display_name": "Python 3 (ipykernel)",
   "language": "python",
   "name": "python3"
  },
  "language_info": {
   "codemirror_mode": {
    "name": "ipython",
    "version": 3
   },
   "file_extension": ".py",
   "mimetype": "text/x-python",
   "name": "python",
   "nbconvert_exporter": "python",
   "pygments_lexer": "ipython3",
   "version": "3.10.11"
  }
 },
 "nbformat": 4,
 "nbformat_minor": 5
}
