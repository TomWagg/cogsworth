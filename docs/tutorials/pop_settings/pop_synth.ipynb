{
 "cells": [
  {
   "cell_type": "raw",
   "id": "f86144c2",
   "metadata": {
    "raw_mimetype": "text/restructuredtext",
    "tags": []
   },
   "source": [
    "************************************\n",
    "Varying stellar evolution parameters\n",
    "************************************\n",
    "\n",
    "``cogsworth`` offers all of the same flexibility as ``COSMIC`` for changing stellar evolution parameters. In this tutorials we'll demonstrate how to change them.\n",
    "\n",
    "Learning Goals\n",
    "==============\n",
    "By the end of this tutorial you should know how to:\n",
    "\n",
    "- Vary stellar evolution parameters using the :attr:`~cogsworth.pop.Population.BSE_settings`"
   ]
  },
  {
   "cell_type": "code",
   "execution_count": 1,
   "id": "c8e98d21-0a0b-46fa-bcd3-dca990d0fd1b",
   "metadata": {},
   "outputs": [],
   "source": [
    "import cogsworth\n",
    "import numpy as np\n",
    "import astropy.units as u\n",
    "import matplotlib.pyplot as plt\n",
    "import pandas as pd"
   ]
  },
  {
   "cell_type": "code",
   "execution_count": 2,
   "id": "c449b9d4-343f-41b4-b174-de81065dbdc9",
   "metadata": {},
   "outputs": [],
   "source": [
    "# this all just makes plots look nice\n",
    "%config InlineBackend.figure_format = 'retina'\n",
    "\n",
    "plt.rc('font', family='serif')\n",
    "plt.rcParams['text.usetex'] = False\n",
    "fs = 24\n",
    "\n",
    "# update various fontsizes to match\n",
    "params = {'figure.figsize': (12, 8),\n",
    "          'legend.fontsize': fs,\n",
    "          'axes.labelsize': fs,\n",
    "          'xtick.labelsize': 0.9 * fs,\n",
    "          'ytick.labelsize': 0.9 * fs,\n",
    "          'axes.linewidth': 1.1,\n",
    "          'xtick.major.size': 7,\n",
    "          'xtick.minor.size': 4,\n",
    "          'ytick.major.size': 7,\n",
    "          'ytick.minor.size': 4}\n",
    "plt.rcParams.update(params)\n",
    "pd.options.display.max_columns = 999"
   ]
  },
  {
   "cell_type": "raw",
   "id": "234bec66-78d5-4656-8d1a-571db1e9c6fb",
   "metadata": {
    "raw_mimetype": "text/restructuredtext",
    "tags": []
   },
   "source": [
    "The ``BSE_settings``\n",
    "====================\n",
    "\n",
    "All population synthesis settings are changed using the ``BSE_settings`` input to the :class:`~cogsworth.pop.Population` (BSE here stands for binary stellar evolution). This dictionary contains the default ``COSMIC`` settings but any of these settings can be overwritten by the user."
   ]
  },
  {
   "cell_type": "raw",
   "id": "61a77f54-bd98-4d6f-83c0-40df9d186604",
   "metadata": {
    "raw_mimetype": "text/restructuredtext",
    "tags": []
   },
   "source": [
    "Binary fraction example\n",
    "-----------------------\n",
    " \n",
    "Let's try an example in which we change the binary fraction (``binfrac``)."
   ]
  },
  {
   "cell_type": "code",
   "execution_count": 171,
   "id": "f6ae123e-9791-44ba-b2ea-8dbd9b5bc277",
   "metadata": {},
   "outputs": [],
   "source": [
    "p_half = cogsworth.pop.Population(n_binaries=10000,\n",
    "                                  sampling_params={\"keep_singles\": True, \"m2_min\": 0.01},\n",
    "                                  BSE_settings={\"binfrac\": 0.5})\n",
    "p_all = cogsworth.pop.Population(n_binaries=10000,\n",
    "                                 sampling_params={\"keep_singles\": True, \"m2_min\": 0.01},\n",
    "                                 BSE_settings={\"binfrac\": 1.0})"
   ]
  },
  {
   "cell_type": "code",
   "execution_count": 170,
   "id": "e4cf50da-f377-4b98-b29a-0bbc20f071d6",
   "metadata": {},
   "outputs": [
    {
     "name": "stdout",
     "output_type": "stream",
     "text": [
      "Sampled binary fraction: 0.5\n",
      "Sampled binary fraction: 1.0\n"
     ]
    }
   ],
   "source": [
    "for p in [p_half, p_all]:\n",
    "    p.sample_initial_binaries()\n",
    "    n_binaries = (p._initial_binaries[\"kstar_2\"] != 15).sum()\n",
    "    f_binaries = n_binaries / len(p)\n",
    "    print(f\"Sampled binary fraction: {f_binaries:1.1f}\")"
   ]
  },
  {
   "cell_type": "raw",
   "id": "84c83d7c-a1da-42e8-8a88-fadd9f87e110",
   "metadata": {
    "raw_mimetype": "text/restructuredtext",
    "tags": []
   },
   "source": [
    ".. admonition:: A tangent on sampling...\n",
    "\n",
    "    Definitely feel free to skip this unless you want to think about initial mass functions. Still here? Okay so you may have noticed that I set ``m2_min = 0.01`` as part of the sampling params of both populations. You need to do this otherwise the sampled binary fraction won't actually match. This is because, by default, ``COSMIC`` assumes a minimum secondary mass of 0.08 solar masses. However, the initial mass functions are all defined from 0.01 upwards and so you'll trim some fraction of your samples and reduce the number of binaries.\n",
    "    \n",
    "    All that to say that you don't need to worry about ``m2_min`` here, and now I guess you know that by default ``cogsworth`` isn't sampling the lowest mass stars (but their total mass is still accounted for in ``p.mass_binaries``. Anyway - back to the good stuff!"
   ]
  },
  {
   "cell_type": "raw",
   "id": "ec0e7345-dc88-4a6a-a174-515a13a152cf",
   "metadata": {
    "raw_mimetype": "text/restructuredtext",
    "tags": []
   },
   "source": [
    "Supernova kick example\n",
    "----------------------\n",
    " \n",
    "Let's do another example where we change the strength of supernova natal kicks for two populations (which I've skewed to target systems that are likely to go supernova)"
   ]
  },
  {
   "cell_type": "code",
   "execution_count": 270,
   "id": "93996d72-8cf1-46e1-9f53-adb45a479673",
   "metadata": {},
   "outputs": [],
   "source": [
    "p = cogsworth.pop.Population(n_binaries=100,\n",
    "                             final_kstar1=[13, 14], final_kstar2=[13, 14],\n",
    "                             BSE_settings={\"binfrac\": 1.0, \"sigma\": 30})\n",
    "p.sample_initial_binaries()\n",
    "p.perform_stellar_evolution()"
   ]
  },
  {
   "cell_type": "markdown",
   "id": "0861bcf7-9840-4a25-8846-095756017a73",
   "metadata": {},
   "source": [
    "First let's see what fraction of the population were disrupted when drawing kicks from a Maxwellian centred on $30 \\, {\\rm km / s}$"
   ]
  },
  {
   "cell_type": "code",
   "execution_count": 271,
   "id": "a5d0fd2a-a1c5-44b0-85ef-8d3b1a7f9ec6",
   "metadata": {},
   "outputs": [
    {
     "data": {
      "text/plain": [
       "'0.42'"
      ]
     },
     "execution_count": 271,
     "metadata": {},
     "output_type": "execute_result"
    }
   ],
   "source": [
    "# count the number of binaries that got kicks while they hadn't already merged\n",
    "n_kicked = len(p.bpp[((p.bpp[\"evol_type\"] == 15) | (p.bpp[\"evol_type\"] == 16)) & (p.bpp[\"sep\"] != 0.0)][\"bin_num\"].unique())\n",
    "f'{p.disrupted.sum() / n_kicked:1.2f}'"
   ]
  },
  {
   "cell_type": "markdown",
   "id": "23ae1e30-f23c-4cdf-907d-97f522930edb",
   "metadata": {},
   "source": [
    "Now let's change the Maxwellian to be centred on $1000 \\, {\\rm km / s}$ and do the same for electron-capture supernovae."
   ]
  },
  {
   "cell_type": "code",
   "execution_count": 272,
   "id": "61ee2650-6ae8-4d61-82b8-68b18ed1c5ff",
   "metadata": {},
   "outputs": [],
   "source": [
    "p.BSE_settings[\"sigma\"] = 1000\n",
    "p.BSE_settings[\"sigmadiv\"] = -1000\n",
    "p.perform_stellar_evolution()"
   ]
  },
  {
   "cell_type": "code",
   "execution_count": 273,
   "id": "3d147fc0-8f10-4dab-b4d1-483ada3bd8f3",
   "metadata": {},
   "outputs": [
    {
     "data": {
      "text/plain": [
       "'0.92'"
      ]
     },
     "execution_count": 273,
     "metadata": {},
     "output_type": "execute_result"
    }
   ],
   "source": [
    "# count the number of binaries that got kicks while they hadn't already merged\n",
    "n_kicked = len(p.bpp[((p.bpp[\"evol_type\"] == 15) | (p.bpp[\"evol_type\"] == 16)) & (p.bpp[\"sep\"] != 0.0)][\"bin_num\"].unique())\n",
    "f'{p.disrupted.sum() / n_kicked:1.2f}'"
   ]
  },
  {
   "cell_type": "markdown",
   "id": "cfb33baf-3cab-4ca9-8967-b7274fa27508",
   "metadata": {},
   "source": [
    "As you'd expect, the fraction is now much higher (and any that aren't disrupting are likely getting fallback adjusted kicks, got lucky directions, or had extremely high orbital velocities)."
   ]
  },
  {
   "cell_type": "raw",
   "id": "2274ae78-3a0b-43e9-8ffc-210b3f555b3e",
   "metadata": {
    "raw_mimetype": "text/restructuredtext",
    "tags": []
   },
   "source": [
    ".. tip::\n",
    "\n",
    "    Notice that I changed the setting without needing to redefine a new population in this last example (I just updated ``p.BSE_settings``. This also means that I evolved the **same initial population** with different physics. This can be a useful way to ensure that a change in your results is directly due to different physics rather than some sort of stochastic sampling effect."
   ]
  },
  {
   "cell_type": "raw",
   "id": "e5315a80-901c-4455-8de3-23f603935479",
   "metadata": {
    "raw_mimetype": "text/restructuredtext",
    "tags": []
   },
   "source": [
    "Definitions of all settings\n",
    "===========================\n",
    " \n",
    "All potential settings are listed in great detail on the COSMIC documentation. You can `check them out here <https://cosmic-popsynth.github.io/COSMIC/inifile/index.html>`_!"
   ]
  },
  {
   "cell_type": "raw",
   "id": "e36e647d-fe7e-4848-9b53-f3aac312b468",
   "metadata": {
    "raw_mimetype": "text/restructuredtext",
    "tags": []
   },
   "source": [
    "Wrap-up\n",
    "=======\n",
    " \n",
    "And that brings us to the end of this short but sweet tutorial. Be sure to look at the COSMIC docs linked above to find out about all of the parameters (and importantly, their default values!). Read on to learn about changing other settings like the galactic potential or galactic star formation model."
   ]
  }
 ],
 "metadata": {
  "kernelspec": {
   "display_name": "Python 3 (ipykernel)",
   "language": "python",
   "name": "python3"
  },
  "language_info": {
   "codemirror_mode": {
    "name": "ipython",
    "version": 3
   },
   "file_extension": ".py",
   "mimetype": "text/x-python",
   "name": "python",
   "nbconvert_exporter": "python",
   "pygments_lexer": "ipython3",
   "version": "3.10.11"
  }
 },
 "nbformat": 4,
 "nbformat_minor": 5
}
