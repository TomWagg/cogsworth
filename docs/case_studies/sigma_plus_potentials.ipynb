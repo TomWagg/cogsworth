{
 "cells": [
  {
   "cell_type": "markdown",
   "metadata": {},
   "source": [
    "# Comparing the competing impacts of binary physics and galactic potentials\n",
    "\n",
    "## The goal and plan\n",
    "\n",
    "In this case study, the question we want to answer is **\"what is the relative importance of binary physics and the galactic potential in determining the spatial distributions of massive stars\"**. In order to do this, let's compare the final galactocentric $x$ and $z$ positions of massive stars at present day (i.e. stars with more than $7 {\\rm M_\\odot}$ and a stellar type less than $10$), varying the mean magnitude of supernova natal kicks and the galactic potential used."
   ]
  },
  {
   "cell_type": "raw",
   "metadata": {
    "raw_mimetype": "text/restructuredtext",
    "tags": [],
    "vscode": {
     "languageId": "raw"
    }
   },
   "source": [
    "This is similar to another case study (`this one <binaries_and_potentials.ipynb>`_), so we'll use some of the same plotting functions."
   ]
  },
  {
   "cell_type": "code",
   "execution_count": 157,
   "metadata": {},
   "outputs": [],
   "source": [
    "import cogsworth\n",
    "import numpy as np\n",
    "import astropy.units as u\n",
    "import gala.potential as gp\n",
    "from gala.units import galactic\n",
    "import seaborn as sns\n",
    "import matplotlib.pyplot as plt\n",
    "import warnings"
   ]
  },
  {
   "cell_type": "code",
   "execution_count": 2,
   "metadata": {},
   "outputs": [],
   "source": [
    "%config InlineBackend.figure_format = 'retina'\n",
    "\n",
    "plt.rc('font', family='serif')\n",
    "plt.rcParams['text.usetex'] = False\n",
    "fs = 20\n",
    "\n",
    "# update various fontsizes to match\n",
    "params = {'figure.figsize': (12, 8),\n",
    "          'legend.fontsize': 0.7 * fs,\n",
    "          'axes.labelsize': fs,\n",
    "          'xtick.labelsize': 0.7 * fs,\n",
    "          'ytick.labelsize': 0.7 * fs,\n",
    "          'axes.linewidth': 1.1,\n",
    "          'xtick.major.size': 7,\n",
    "          'xtick.minor.size': 4,\n",
    "          'ytick.major.size': 7,\n",
    "          'ytick.minor.size': 4}\n",
    "plt.rcParams.update(params)"
   ]
  },
  {
   "cell_type": "markdown",
   "metadata": {},
   "source": [
    "## Simulate the populations\n",
    "To start, let's simulate the population. Specifically, let's simulate a population of stars formed in the last 100 million years in the Milky Way with a 100% binary fraction."
   ]
  },
  {
   "cell_type": "code",
   "execution_count": 3,
   "metadata": {},
   "outputs": [],
   "source": [
    "# only want the last 100 Myr of star formation\n",
    "max_ev_time = 100 * u.Myr"
   ]
  },
  {
   "cell_type": "markdown",
   "metadata": {},
   "source": [
    "### Define some star formation histories and potentials\n",
    "\n",
    "First, let's define two different SFH and potential models that approximately represent a quasi-isothermal MW thin disc and the Carina dwarf galaxy, but using a fixed metallicity for both."
   ]
  },
  {
   "cell_type": "code",
   "execution_count": 24,
   "metadata": {},
   "outputs": [],
   "source": [
    "# use a quasi-isothermal disk model for the star formation history, but with a more recent history\n",
    "class RecentDisc(cogsworth.sfh.QuasiIsothermalDisk):\n",
    "    def draw_lookback_times(self, size=None, component=\"low_alpha_disc\"):\n",
    "        U = np.random.rand(size)\n",
    "        norm = 1 / (self.tsfr * np.exp(-self.galaxy_age / self.tsfr) * (np.exp(max_ev_time / self.tsfr) - 1))\n",
    "        tau = self.tsfr * np.log((U * np.exp(self.galaxy_age / self.tsfr)) / (norm * self.tsfr) + 1)\n",
    "\n",
    "        return tau\n",
    "    \n",
    "    def get_metallicity(self):\n",
    "        return np.repeat(0.02, len(self)) * u.dimensionless_unscaled\n",
    "\n",
    "# simply the Milky Way potential\n",
    "pot = gp.MilkyWayPotential2022()"
   ]
  },
  {
   "cell_type": "code",
   "execution_count": 34,
   "metadata": {},
   "outputs": [],
   "source": [
    "# approximate the Carina dwarf galaxy recent star formation history\n",
    "class Carina(cogsworth.sfh.SpheroidalDwarf):\n",
    "    def __init__(self, size, mass=8.67e8 * u.Msun, J_0_star=0.677 * u.kpc*u.km/u.s,\n",
    "                       alpha=0.946, eta=0.5, **kwargs):\n",
    "        super().__init__(size=size, mass=mass, J_0_star=J_0_star, alpha=alpha, eta=eta, **kwargs)\n",
    "\n",
    "    def draw_lookback_times(self, size=None, component=\"low_alpha_disc\"):\n",
    "        U = np.random.rand(size)\n",
    "        norm = 1 / (self.tsfr * np.exp(-self.galaxy_age / self.tsfr) * (np.exp(max_ev_time / self.tsfr) - 1))\n",
    "        tau = self.tsfr * np.log((U * np.exp(self.galaxy_age / self.tsfr)) / (norm * self.tsfr) + 1)\n",
    "\n",
    "        return tau\n",
    "    \n",
    "    def get_metallicity(self):\n",
    "        return np.repeat(0.02, len(self)) * u.dimensionless_unscaled\n",
    "    \n",
    "# use a simple NFW potential for the Carina dwarf galaxy\n",
    "carina_pot = gp.NFWPotential(m=8.67e8 * u.Msun, r_s=1.0, units=galactic)"
   ]
  },
  {
   "cell_type": "markdown",
   "metadata": {},
   "source": [
    "### Sample initial conditions\n",
    "\n",
    "For the most consistent comparison, we'll use the same initial conditions for each population. Let's start by sampling these for the base population."
   ]
  },
  {
   "cell_type": "code",
   "execution_count": 139,
   "metadata": {},
   "outputs": [],
   "source": [
    "base_pop = cogsworth.pop.Population(\n",
    "    2_000_000,\n",
    "    processes=6,\n",
    "    m1_cutoff=7,\n",
    "    sfh_model=RecentDisc,\n",
    "    galactic_potential=pot,\n",
    "    max_ev_time=max_ev_time,\n",
    "    BSE_settings={\"binfrac\": 1.0},\n",
    "    store_entire_orbits=False\n",
    ")\n",
    "base_pop.sample_initial_binaries()"
   ]
  },
  {
   "cell_type": "markdown",
   "metadata": {},
   "source": [
    "### Evolve binary physics variations\n",
    "\n",
    "Now let's evolve this for two choices of the mean supernova natal kick magnitude:\n",
    "\n",
    "- the default choice of $265 \\, {\\rm km /s}$\n",
    "- a variation with extremely strong kicks with a mean of $1000 \\, {\\rm km /s}$"
   ]
  },
  {
   "cell_type": "code",
   "execution_count": 140,
   "metadata": {},
   "outputs": [],
   "source": [
    "# copy the base population\n",
    "disc_low_sigma = base_pop[:]\n",
    "disc_high_sigma = base_pop[:]\n",
    "\n",
    "# adjust sigma for both types of kicks\n",
    "disc_high_sigma.BSE_settings[\"sigma\"] = 1000\n",
    "disc_high_sigma.BSE_settings[\"sigmadiv\"] = -1000\n",
    "\n",
    "# evolve both\n",
    "disc_low_sigma.perform_stellar_evolution()\n",
    "disc_high_sigma.perform_stellar_evolution()"
   ]
  },
  {
   "cell_type": "markdown",
   "metadata": {},
   "source": [
    "### Mask the populations\n",
    "\n",
    "Mask the population to only retain systems that experienced a supernova and are now either in a bound binary with a star or are a star from a disrupted binary."
   ]
  },
  {
   "cell_type": "code",
   "execution_count": 141,
   "metadata": {},
   "outputs": [],
   "source": [
    "KSTAR_MAX = 10\n",
    "\n",
    "def mask_population(p):\n",
    "    # get the binarys that have at least one SN\n",
    "    has_sn_bin_nums = p.bpp[p.bpp[\"evol_type\"].isin([15, 16])][\"bin_num\"].unique()\n",
    "    \n",
    "    # reduce population\n",
    "    p_sn = p[has_sn_bin_nums]\n",
    "    \n",
    "    # get bound/merged binaries that have a star in them\n",
    "    stars_in_binaries = (p_sn.final_bpp[\"sep\"] >= 0.0) & ((p_sn.final_bpp[\"kstar_1\"] < KSTAR_MAX)\n",
    "                                                       |  (p_sn.final_bpp[\"kstar_2\"] < KSTAR_MAX))\n",
    "    \n",
    "    # get disrupted binaries where at least one component is still a star\n",
    "    disrupted_stars = (p_sn.final_bpp[\"sep\"] == -1) & ((p_sn.final_bpp[\"kstar_1\"] < KSTAR_MAX)\n",
    "                                                     | (p_sn.final_bpp[\"kstar_2\"] < KSTAR_MAX))\n",
    "    return p_sn[p_sn.bin_nums[stars_in_binaries | disrupted_stars]]"
   ]
  },
  {
   "cell_type": "code",
   "execution_count": 142,
   "metadata": {},
   "outputs": [],
   "source": [
    "disc_low_sigma = mask_population(disc_low_sigma)"
   ]
  },
  {
   "cell_type": "code",
   "execution_count": 143,
   "metadata": {},
   "outputs": [],
   "source": [
    "disc_high_sigma = mask_population(disc_high_sigma)"
   ]
  },
  {
   "cell_type": "markdown",
   "metadata": {},
   "source": [
    "### Integrate through different potentials\n",
    "Now, for each value of sigma we can evolve it through both the disc and dwarf galaxy."
   ]
  },
  {
   "cell_type": "code",
   "execution_count": 144,
   "metadata": {},
   "outputs": [],
   "source": [
    "# copy the other populations\n",
    "carina_low_sigma = disc_low_sigma[:]\n",
    "carina_high_sigma = disc_high_sigma[:]\n",
    "\n",
    "# change the SFH and potential\n",
    "carina_low_sigma.sfh_model = Carina\n",
    "carina_low_sigma.galactic_potential = carina_pot\n",
    "carina_high_sigma.sfh_model = Carina\n",
    "carina_high_sigma.galactic_potential = carina_pot\n",
    "\n",
    "# resample the star formation history\n",
    "carina_low_sigma.sample_initial_galaxy()\n",
    "carina_high_sigma.sample_initial_galaxy()"
   ]
  },
  {
   "cell_type": "code",
   "execution_count": 159,
   "metadata": {},
   "outputs": [
    {
     "name": "stderr",
     "output_type": "stream",
     "text": [
      "6178it [00:05, 1194.58it/s]                          \n",
      "6596it [00:05, 1139.80it/s]                          \n",
      "4918it [00:03, 1235.13it/s]                          \n",
      "5262it [00:04, 1152.53it/s]                          \n"
     ]
    }
   ],
   "source": [
    "# evolve them all through their respective galaxies\n",
    "with warnings.catch_warnings():\n",
    "    warnings.filterwarnings(\"ignore\", message=\".*bad orbit.*\")\n",
    "    disc_low_sigma.perform_galactic_evolution()\n",
    "    disc_high_sigma.perform_galactic_evolution()\n",
    "    carina_low_sigma.perform_galactic_evolution()\n",
    "    carina_high_sigma.perform_galactic_evolution()"
   ]
  },
  {
   "cell_type": "markdown",
   "metadata": {},
   "source": [
    "## Get present day positions of stars\n",
    "\n",
    "Now we need some functions to split the populations into the correct subpopulations and also a way to access the final positions of only stars. The rest of the code in this case study follows very similarly to the previous one."
   ]
  },
  {
   "cell_type": "code",
   "execution_count": 146,
   "metadata": {},
   "outputs": [],
   "source": [
    "def get_x_z(p):\n",
    "    \"\"\"Get the final x-z positions of the stars in the population\"\"\"\n",
    "    # bound systems need at least one star\n",
    "    bound_pos = p.final_pos[:len(p)][~p.disrupted & ((p.final_bpp[\"kstar_1\"] <= KSTAR_MAX)\n",
    "                                                   | (p.final_bpp[\"kstar_2\"] <= KSTAR_MAX))]\n",
    "    # disrupted primary (secondary) systems need the primary (secondary) to be a star\n",
    "    dis_pos_1 = p.final_pos[:len(p)][p.disrupted & (p.final_bpp[\"kstar_1\"] <= KSTAR_MAX)]\n",
    "    dis_pos_2 = p.final_pos[len(p):][p.final_bpp[\"kstar_2\"][p.disrupted] <= KSTAR_MAX]\n",
    "\n",
    "    # combine them all and return x, z\n",
    "    all_pos = np.concatenate([bound_pos, dis_pos_1, dis_pos_2])\n",
    "    return all_pos[:, 0], all_pos[:, 2]"
   ]
  },
  {
   "cell_type": "markdown",
   "metadata": {},
   "source": [
    "## Visualise the results\n",
    "\n",
    "We'll visualise this with a single density plot using a Kernel Density Estimator (KDE). Scipy provides a\n",
    "simple gaussian one and we can build around it to mirror the density on the plot."
   ]
  },
  {
   "cell_type": "markdown",
   "metadata": {},
   "source": [
    "### Calculate densities for each population\n",
    "\n",
    "This uses the ``scipy`` ``gaussian_kde`` function to calculate the overall $x$-$z$ density and then reflects it into a specific half/quadrant depending on user input"
   ]
  },
  {
   "cell_type": "code",
   "execution_count": 136,
   "metadata": {},
   "outputs": [],
   "source": [
    "from scipy.stats import gaussian_kde\n",
    "\n",
    "def get_mirrored_density(x, y, x_range, y_range, mirror_x=None, mirror_y=None):\n",
    "    \"\"\"Get the mirrored density of a 2D distribution\"\"\"\n",
    "    X, Y = np.meshgrid(x_range, y_range)\n",
    "    densities = gaussian_kde([x, y]).evaluate([X.flatten(), Y.flatten()]).reshape((len(x_range), len(y_range)))\n",
    "    \n",
    "    # mirror left or right if requested\n",
    "    if mirror_x == \"left\":\n",
    "        densities = np.where(X <= 0, densities + np.fliplr(densities), 0)\n",
    "    elif mirror_x == \"right\":\n",
    "        densities = np.where(X >= 0, densities + np.fliplr(densities), 0)\n",
    "    \n",
    "    # mirror up or down if requested\n",
    "    if mirror_y == \"up\":\n",
    "        densities = np.where(Y >= 0, densities + np.flipud(densities), 0)\n",
    "    elif mirror_y == \"down\":\n",
    "        densities = np.where(Y <= 0, densities + np.flipud(densities), 0)\n",
    "        \n",
    "    return X, Y, densities"
   ]
  },
  {
   "cell_type": "markdown",
   "metadata": {},
   "source": [
    "We can apply the function to each of the subpopulations with different inputs using the following loop"
   ]
  },
  {
   "cell_type": "code",
   "execution_count": 147,
   "metadata": {},
   "outputs": [],
   "source": [
    "# define the range we want to plot\n",
    "x_range = np.linspace(-30, 30, 201) * u.kpc\n",
    "z_range = np.linspace(-15, 15, 201) * u.kpc\n",
    "\n",
    "# set up a dictionary to store the data\n",
    "data = {\n",
    "    \"disc_low_sigma\": {},\n",
    "    \"disc_high_sigma\": {},\n",
    "    \"carina_low_sigma\": {},\n",
    "    \"carina_high_sigma\": {}\n",
    "}\n",
    "\n",
    "# loop over the populations and get the density (mirrored in the correct way)\n",
    "for pop, label, mirror_x, mirror_y in zip([disc_low_sigma, disc_high_sigma, carina_low_sigma, carina_high_sigma],\n",
    "                                          [\"disc_low_sigma\", \"disc_high_sigma\", \"carina_low_sigma\", \"carina_high_sigma\"],\n",
    "                                          [\"left\", \"right\", \"left\", \"right\"],\n",
    "                                          [\"up\", \"up\", \"down\", \"down\"]):\n",
    "    # get the x and z positions\n",
    "    x, z = get_x_z(pop)\n",
    "    # only keep the stars within the range we want to plot\n",
    "    x, z = x[(x >= x_range.min()) & (x <= x_range.max()) & (z >= z_range.min()) & (z <= z_range.max())],\\\n",
    "        z[(z >= z_range.min()) & (z <= z_range.max()) & (x >= x_range.min()) & (x <= x_range.max())]\n",
    "    \n",
    "    # get the mirrored density\n",
    "    X, Z, data[label][\"density\"] = get_mirrored_density(x, z,\n",
    "                                                        x_range, z_range, mirror_x, mirror_y)\n",
    "    \n",
    "    # store the x and z positions as well\n",
    "    data[label][\"x\"], data[label][\"z\"] = x, z"
   ]
  },
  {
   "cell_type": "markdown",
   "metadata": {},
   "source": [
    "### Plot the densities\n",
    "\n",
    "Now let's make a nice plot showing the density distributions! This plot shows the 2D density distribution up to the 98th percentile, with the remaining outliers plotted with scatter points. There's also a marginal distribution showing the KDE in $z$ for each of the populations."
   ]
  },
  {
   "cell_type": "code",
   "execution_count": 109,
   "metadata": {},
   "outputs": [],
   "source": [
    "def _iso_level_to_levels(data, iso_levels):\n",
    "    # convert a list of isoprobability levels to actual levels for contourf plots\n",
    "    # (don't worry too much about the details here ;) )\n",
    "    isoprop = np.asarray(iso_levels)\n",
    "    values = np.ravel(data)\n",
    "    sorted_values = np.sort(values)[::-1]\n",
    "    normalized_values = np.cumsum(sorted_values) / values.sum()\n",
    "    idx = np.searchsorted(normalized_values, 1 - isoprop)\n",
    "    levels = np.take(sorted_values, idx, mode=\"clip\")\n",
    "    return np.unique(levels)"
   ]
  },
  {
   "cell_type": "markdown",
   "metadata": {},
   "source": [
    "## Discussion and explanations"
   ]
  },
  {
   "cell_type": "markdown",
   "metadata": {},
   "source": [
    "The resulting density distribution show that both binary physics and the galactic potential can have a large impact on where we find massive stars (in particular those that experienced a supernova in this case). Increasing the strength of supernova natal kicks in the Milky Way disc case significantly increases the scale height, but a more drastic effect is seen in the weaker (and more spherical) Carina dwarf galaxy potential, which allows stars to spread further."
   ]
  }
 ],
 "metadata": {
  "kernelspec": {
   "display_name": "cogsworth",
   "language": "python",
   "name": "python3"
  },
  "language_info": {
   "codemirror_mode": {
    "name": "ipython",
    "version": 3
   },
   "file_extension": ".py",
   "mimetype": "text/x-python",
   "name": "python",
   "nbconvert_exporter": "python",
   "pygments_lexer": "ipython3",
   "version": "3.10.11"
  }
 },
 "nbformat": 4,
 "nbformat_minor": 2
}
